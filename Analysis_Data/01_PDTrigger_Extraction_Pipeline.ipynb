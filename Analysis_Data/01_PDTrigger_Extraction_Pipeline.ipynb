{
 "cells": [
  {
   "cell_type": "markdown",
   "metadata": {},
   "source": [
    "# Analysis Pipeline for Intracranial Data\n",
    "\n",
    "\n",
    "## STEPS:\n",
    "##### 1. run the IMPORT AND LOAD DATA section.\n",
    "\n",
    "##### 2. fill in the values extracted from the plot from step 1 for following variables:\n",
    "\n",
    "\n",
    "Let's go"
   ]
  },
  {
   "cell_type": "code",
   "execution_count": 1,
   "metadata": {},
   "outputs": [
    {
     "name": "stdout",
     "output_type": "stream",
     "text": [
      "PAT_3066\n",
      "Extracting EDF parameters from /Volumes/GoogleDrive/My Drive/EEG_DATA_PIERRE/PAT_3066/PAT_3066_EEG_708977_Anon_CategoryLocalizer.edf...\n",
      "EDF file detected\n",
      "Setting channel info structure...\n",
      "Creating raw.info structure...\n",
      "*   Trigger channel length:  <bound method BaseRaw.__len__ of <RawEDF | PAT_3066_EEG_708977_Anon_CategoryLocalizer.edf, 204 x 2181120 (1065.0 s), ~196 kB, data not loaded>>\n",
      "(2181120,)\n"
     ]
    }
   ],
   "source": [
    "import os\n",
    "import numpy as np\n",
    "import mne\n",
    "from mne.utils import _TempDir\n",
    "import matplotlib.pyplot as plt\n",
    "import pyqtgraph as pg\n",
    "import pyqtgraph as plotWidget\n",
    "%matplotlib qt\n",
    "from pd_parser.parse_pd import _read_raw, _to_tsv\n",
    "import time\n",
    "\n",
    "# DEFINE PATHS\n",
    "\n",
    "data_path = '/Volumes/GoogleDrive/My Drive/EEG_DATA_PIERRE/PAT_3066'\n",
    "# PT_id = \n",
    "script_path = '/Volumes/GoogleDrive/My Drive/EEG_DATA_PIERRE/Scripts'\n",
    "data_raw_file = os.path.join(data_path, 'PAT_3066_EEG_708977_Anon_CategoryLocalizer.edf')\n",
    "Exper = 'CatLoc'\n",
    "PT_id = 'PAT_3066'\n",
    "print(PT_id)\n",
    "\n",
    "# data_raw_file = os.path.join(data_path, 'PAT_3066_EEG_708977_Anon_CategoryLocalizer.edf') #PAT_3066_EEG_695997_Anon_FLM.edf\n",
    "\n",
    "# LOAD TRIGGER DATA \n",
    "trigger_ch = mne.io.read_raw_edf(data_raw_file,exclude=['ECG+','ECG-','MKR4+','Xe2', 'Xe3', 'Xe4', 'Xe5', 'Xe6'])\n",
    "print('*   Trigger channel length: ',trigger_ch.__len__)\n",
    "\n",
    "picks = mne.pick_channels_regexp(trigger_ch.info.ch_names, regexp='Xe1')\n",
    "fig = plt.figure(figsize=(100, 2))\n",
    "trigger_ch2 = trigger_ch.get_data(picks=picks)\n",
    "trigger_ch2 = trigger_ch2[0].T\n",
    "time_s = np.linspace(0,len(trigger_ch2),num=len(trigger_ch2))\n",
    "\n",
    "# pg.plot(time_s,trigger_ch2)\n",
    "# plt.close(fig)\n",
    "\n",
    "\n",
    "# VISUALIZE\n",
    "fig = plt.figure(figsize=(100, 2))\n",
    "print(np.shape(trigger_ch2))\n",
    "import pyqtgraph as pg\n",
    "import pyqtgraph as plotWidget\n",
    "pg.plot(time_s,trigger_ch2)\n",
    "plt.close(fig)\n"
   ]
  },
  {
   "cell_type": "markdown",
   "metadata": {},
   "source": [
    "### Extract the PD Trigger"
   ]
  },
  {
   "cell_type": "code",
   "execution_count": 2,
   "metadata": {},
   "outputs": [
    {
     "name": "stderr",
     "output_type": "stream",
     "text": [
      "objc[34104]: Class QCocoaMenuLoader is implemented in both /Library/Frameworks/Python.framework/Versions/3.7/lib/python3.7/site-packages/PyQt5/Qt/plugins/platforms/libqcocoa.dylib (0x114c0d430) and /Library/Frameworks/Python.framework/Versions/3.7/lib/python3.7/site-packages/cv2/.dylibs/QtGui (0x154a2a2a0). One of the two will be used. Which one is undefined.\n",
      "objc[34104]: Class QNSApplication is implemented in both /Library/Frameworks/Python.framework/Versions/3.7/lib/python3.7/site-packages/PyQt5/Qt/plugins/platforms/libqcocoa.dylib (0x114c0d2f0) and /Library/Frameworks/Python.framework/Versions/3.7/lib/python3.7/site-packages/cv2/.dylibs/QtGui (0x154a2a2f0). One of the two will be used. Which one is undefined.\n",
      "objc[34104]: Class QCocoaApplicationDelegate is implemented in both /Library/Frameworks/Python.framework/Versions/3.7/lib/python3.7/site-packages/PyQt5/Qt/plugins/platforms/libqcocoa.dylib (0x114c0d2a0) and /Library/Frameworks/Python.framework/Versions/3.7/lib/python3.7/site-packages/cv2/.dylibs/QtGui (0x154a2a340). One of the two will be used. Which one is undefined.\n",
      "objc[34104]: Class QNSOpenSavePanelDelegate is implemented in both /Library/Frameworks/Python.framework/Versions/3.7/lib/python3.7/site-packages/PyQt5/Qt/plugins/platforms/libqcocoa.dylib (0x114c0d610) and /Library/Frameworks/Python.framework/Versions/3.7/lib/python3.7/site-packages/cv2/.dylibs/QtGui (0x154a2a480). One of the two will be used. Which one is undefined.\n",
      "objc[34104]: Class QCocoaPageLayoutDelegate is implemented in both /Library/Frameworks/Python.framework/Versions/3.7/lib/python3.7/site-packages/PyQt5/Qt/lib/QtPrintSupport.framework/Versions/5/QtPrintSupport (0x113d2b478) and /Library/Frameworks/Python.framework/Versions/3.7/lib/python3.7/site-packages/cv2/.dylibs/QtGui (0x154a2a5c0). One of the two will be used. Which one is undefined.\n",
      "objc[34104]: Class QCocoaPrintPanelDelegate is implemented in both /Library/Frameworks/Python.framework/Versions/3.7/lib/python3.7/site-packages/PyQt5/Qt/lib/QtPrintSupport.framework/Versions/5/QtPrintSupport (0x113d2b4f0) and /Library/Frameworks/Python.framework/Versions/3.7/lib/python3.7/site-packages/cv2/.dylibs/QtGui (0x154a2a638). One of the two will be used. Which one is undefined.\n",
      "objc[34104]: Class QNSImageView is implemented in both /Library/Frameworks/Python.framework/Versions/3.7/lib/python3.7/site-packages/PyQt5/Qt/plugins/platforms/libqcocoa.dylib (0x114c0d4d0) and /Library/Frameworks/Python.framework/Versions/3.7/lib/python3.7/site-packages/cv2/.dylibs/QtGui (0x154a2a660). One of the two will be used. Which one is undefined.\n",
      "objc[34104]: Class QNSStatusItem is implemented in both /Library/Frameworks/Python.framework/Versions/3.7/lib/python3.7/site-packages/PyQt5/Qt/plugins/platforms/libqcocoa.dylib (0x114c0d520) and /Library/Frameworks/Python.framework/Versions/3.7/lib/python3.7/site-packages/cv2/.dylibs/QtGui (0x154a2a6b0). One of the two will be used. Which one is undefined.\n"
     ]
    },
    {
     "name": "stdout",
     "output_type": "stream",
     "text": [
      "*   Data location.... : /var/folders/85/ct7qgj4500s62pw9zxkv_xc40000gn/T/tmp_mne_tempdir_gvl568ok\n",
      "\n",
      "\n",
      "Extracting EDF parameters from /Volumes/GoogleDrive/My Drive/EEG_DATA_PIERRE/PAT_3066/PAT_3066_EEG_708977_Anon_CategoryLocalizer.edf...\n",
      "EDF file detected\n",
      "Setting channel info structure...\n",
      "Creating raw.info structure...\n",
      "878000 (878000,)\n",
      "*   length of onset indexes:  3\n",
      "*   length of offset indexes:  130\n",
      "*   length of Time & Trigger:  878000   878000\n"
     ]
    }
   ],
   "source": [
    "from get_trigger_indexes_photodiode import get_trigger_indexes_photodiode\n",
    "# t_onset_s = input(\"Enter cut start time: \")\n",
    "# t_offset_s = input(\"Enter cut end time: \")\n",
    "# t_onset_s= 550000\n",
    "# t_offset_s= 3310000\n",
    "t_onset_s= 1022000\n",
    "t_offset_s= 1900000\n",
    "index_onset,index_offset , trigger_ch_new,_ = get_trigger_indexes_photodiode(data_raw_file = data_raw_file, data_path=data_path,t_start= t_onset_s, t_end=t_offset_s,threshold_val=0.8)\n",
    "\n",
    "index_on_true=index_onset\n",
    "index_off_true=index_offset"
   ]
  },
  {
   "cell_type": "markdown",
   "metadata": {},
   "source": [
    "### VALIDATION\n",
    "Assert that the trigger onset and offset are a pair and the onset is before the offset"
   ]
  },
  {
   "cell_type": "code",
   "execution_count": 3,
   "metadata": {},
   "outputs": [
    {
     "ename": "KeyboardInterrupt",
     "evalue": "",
     "output_type": "error",
     "traceback": [
      "\u001b[0;31m---------------------------------------------------------------------------\u001b[0m",
      "\u001b[0;31mKeyboardInterrupt\u001b[0m                         Traceback (most recent call last)",
      "\u001b[0;32m/var/folders/85/ct7qgj4500s62pw9zxkv_xc40000gn/T/ipykernel_8549/881521594.py\u001b[0m in \u001b[0;36m<module>\u001b[0;34m\u001b[0m\n\u001b[1;32m     25\u001b[0m     \u001b[0;32melse\u001b[0m\u001b[0;34m:\u001b[0m\u001b[0;34m\u001b[0m\u001b[0;34m\u001b[0m\u001b[0m\n\u001b[1;32m     26\u001b[0m         \u001b[0;32mwhile\u001b[0m \u001b[0mtempe\u001b[0m\u001b[0;34m:\u001b[0m\u001b[0;34m\u001b[0m\u001b[0;34m\u001b[0m\u001b[0m\n\u001b[0;32m---> 27\u001b[0;31m             \u001b[0;32mwhile\u001b[0m \u001b[0mindex_onset\u001b[0m\u001b[0;34m[\u001b[0m\u001b[0mi\u001b[0m\u001b[0;34m]\u001b[0m \u001b[0;34m>\u001b[0m \u001b[0mindex_offset\u001b[0m\u001b[0;34m[\u001b[0m\u001b[0mi\u001b[0m\u001b[0;34m]\u001b[0m\u001b[0;34m:\u001b[0m\u001b[0;34m\u001b[0m\u001b[0;34m\u001b[0m\u001b[0m\n\u001b[0m\u001b[1;32m     28\u001b[0m                 \u001b[0;32mif\u001b[0m \u001b[0mindex_onset\u001b[0m\u001b[0;34m[\u001b[0m\u001b[0mi\u001b[0m\u001b[0;34m+\u001b[0m\u001b[0;36m1\u001b[0m\u001b[0;34m]\u001b[0m \u001b[0;34m>\u001b[0m\u001b[0mindex_offset\u001b[0m\u001b[0;34m[\u001b[0m\u001b[0mi\u001b[0m\u001b[0;34m]\u001b[0m\u001b[0;34m:\u001b[0m\u001b[0;34m\u001b[0m\u001b[0;34m\u001b[0m\u001b[0m\n\u001b[1;32m     29\u001b[0m                     \u001b[0mindex_offset\u001b[0m\u001b[0;34m.\u001b[0m\u001b[0mpop\u001b[0m\u001b[0;34m(\u001b[0m\u001b[0mi\u001b[0m\u001b[0;34m)\u001b[0m\u001b[0;34m\u001b[0m\u001b[0;34m\u001b[0m\u001b[0m\n",
      "\u001b[0;31mKeyboardInterrupt\u001b[0m: "
     ]
    }
   ],
   "source": [
    "# VALIDATION\n",
    "index_on_true=index_onset\n",
    "index_off_true=index_offset\n",
    "index_onset = list(index_onset)\n",
    "index_offset = list(index_offset)\n",
    "validity = [] # 0 for invalid, 1 for valid\n",
    "for i in range(min([len(index_on_true),len(index_off_true)])):\n",
    "    tempe=True\n",
    "    # print(i)\n",
    "    # if i >= min([len(index_on_true),len(index_off_true)]):\n",
    "    #     validity.append(0)\n",
    "    if index_onset[i] < index_offset[i]:\n",
    "        while tempe:\n",
    "            while index_onset[i] < index_offset[i]:\n",
    "                if index_onset[i+1] <index_offset[i]:\n",
    "                    # print(index_onset[i])\n",
    "                    index_onset.pop(i)\n",
    "                    validity.append(0)\n",
    "                    tempe=False\n",
    "                    break\n",
    "                else:\n",
    "                    validity.append(1)\n",
    "                    tempe=False\n",
    "                    break\n",
    "    else:\n",
    "        while tempe:\n",
    "            while index_onset[i] > index_offset[i]:\n",
    "                if index_onset[i+1] >index_offset[i]:\n",
    "                    index_offset.pop(i)\n",
    "                    validity.append(0)\n",
    "                    tempte=False\n",
    "                else:\n",
    "                    validity.append(1)\n",
    "                    tempe=False\n",
    "                    break\n",
    "\n",
    "\n",
    "\n",
    "# if len(index_offset)!=len(index_onset):\n",
    "#     if len(index_offset)>len(index_onset):\n",
    "#         index_onset.append(0)\n",
    "diff_oo=[index_offset[i]-index_onset[i] for i in range(len(index_offset))]\n",
    "assert np.min(diff_oo)>=0\n",
    "# print(validity, len(validity),len(index_onset),len(index_offset))\n",
    "validity=np.array(validity)"
   ]
  },
  {
   "cell_type": "code",
   "execution_count": null,
   "metadata": {},
   "outputs": [],
   "source": [
    "\n",
    "# VISUALIZE\n",
    "fig = plt.figure(figsize=(100, 2))\n",
    "print(np.shape(trigger_ch2))\n",
    "import pyqtgraph as pg\n",
    "import pyqtgraph as plotWidget\n",
    "# pg.plot(time_s,trigger_ch2)\n",
    "# pg.plot(time_s,index_onset)\n",
    "# plt.close(fig)\n",
    "time_s = np.linspace(0,len(trigger_ch2),num=len(trigger_ch2))\n",
    "plotWidget = pg.plot(title=\"Validation of Triggers PD: x is onset, o is offset\")\n",
    "plotWidget.plot(time_s,trigger_ch2)\n",
    "plotWidget.plot(index_offset,trigger_ch2[index_offset],pen=None, symbol='o')\n",
    "plotWidget.plot(index_onset,trigger_ch2[index_onset],pen=None, symbol='x')\n",
    "# plotWidget.plot(index_onset[validity==False],trigger_ch2[index_onset[validity==False]],pen=None, symbol='x')\n",
    "\n",
    "# plotWidget.show()"
   ]
  },
  {
   "cell_type": "markdown",
   "metadata": {},
   "source": [
    "### Save The Data"
   ]
  },
  {
   "cell_type": "code",
   "execution_count": null,
   "metadata": {},
   "outputs": [],
   "source": [
    "from datetime import datetime\n",
    "date_txt=str(datetime.date(datetime.now()))\n",
    "name_txt = PT_id +Exper+'_triggerPD_' + date_txt+'.txt'\n",
    "with open(os.path.join(data_path,name_txt ), \"w\") as textfile:\n",
    "    textfile.write('onsets;offsets\\n')\n",
    "    XY = [i for i in zip(index_onset, index_offset)]\n",
    "    for x, y in XY:\n",
    "        textfile.write(str(x)+';'+str(y))\n",
    "        textfile.write('\\n')\n",
    "    textfile.close()\n",
    "\n",
    "    28840\n",
    "    30446"
   ]
  },
  {
   "cell_type": "markdown",
   "metadata": {},
   "source": [
    "### FINISHED HERE: \n",
    "##### Everything below is draft"
   ]
  }
 ],
 "metadata": {
  "interpreter": {
   "hash": "aee8b7b246df8f9039afb4144a1f6fd8d2ca17a180786b69acc140d282b71a49"
  },
  "kernelspec": {
   "display_name": "Python 3.7.4 64-bit",
   "language": "python",
   "name": "python3"
  },
  "language_info": {
   "codemirror_mode": {
    "name": "ipython",
    "version": 3
   },
   "file_extension": ".py",
   "mimetype": "text/x-python",
   "name": "python",
   "nbconvert_exporter": "python",
   "pygments_lexer": "ipython3",
   "version": "3.7.4"
  },
  "orig_nbformat": 4
 },
 "nbformat": 4,
 "nbformat_minor": 2
}
