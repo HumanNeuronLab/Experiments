{
 "cells": [
  {
   "cell_type": "markdown",
   "metadata": {},
   "source": [
    "# Analysis Pipeline for Intracranial Data\n",
    "\n",
    "\n",
    "## STEPS:\n",
    "##### 1. run the IMPORT AND LOAD DATA section.\n",
    "\n",
    "##### 2. fill in the values extracted from the plot from step 1 for following variables:\n",
    "\n",
    "\n",
    "Let's go"
   ]
  },
  {
   "cell_type": "code",
   "execution_count": 1,
   "metadata": {},
   "outputs": [
    {
     "name": "stdout",
     "output_type": "stream",
     "text": [
      "<_io.BufferedReader name='/Volumes/GoogleDrive/My Drive/EEG_DATA_PIERRE/PAT_3066/PAT_3066_EEG_695997_Anon_FLM.TRC'>\n",
      "212\n",
      "['FIG1', 'FIG2', 'FIG3', 'FIG4', 'FIG5', 'FIG6', 'FIG7', 'FIG8', 'FIG9', 'FIG10', 'FIG11', 'FIG12', 'FOG1', 'FOG2', 'FOG3', 'FOG4', 'FOG5', 'FOG6', 'FOG7', 'FOG8', 'FOG9', 'FOG10', 'FOG11', 'FOG12', 'FOG13', 'FOG14', 'FOG15', 'CAG1', 'CAG2', 'CAG3', 'CAG4', 'CAG5', 'CAG6', 'CAG7', 'CAG8', 'CAG9', 'CAG10', 'CAG11', 'CAG12', 'IAG1', 'IAG2', 'IAG3', 'IAG4', 'IAG5', 'IAG6', 'IAG7', 'IAG8', 'IAG9', 'IAG10', 'IAG11', 'IAG12', 'IAG13', 'IAG14', 'IAG15', 'IAG16', 'IAG17', 'IAG18', 'MKR1+', 'IMG1', 'IMG2', 'IMG3', 'IMG4', 'IMG5', 'IMG6', 'IMG7', 'IMG8', 'IMG9', 'IMG10', 'IMG11', 'IMG12', 'IMG13', 'IMG14', 'IMG15', 'IMG16', 'IMG17', 'IMG18', 'AG1', 'AG2', 'AG3', 'AG4', 'AG5', 'AG6', 'AG7', 'AG8', 'AG9', 'AG10', 'HAG1', 'HAG2', 'HAG3', 'HAG4', 'HAG5', 'HAG6', 'HAG7', 'HAG8', 'HAG9', 'HAG10', 'HPG1', 'HPG2', 'HPG3', 'HPG4', 'HPG5', 'HPG6', 'HPG7', 'HPG8', 'HPG9', 'HPG10', 'HPG11', 'HPG12', 'STG1', 'STG2', 'STG3', 'STG4', 'STG5', 'STG6', 'STG7', 'STG8', 'MKR2+', 'TIG1', 'TIG2', 'TIG3', 'TIG4', 'TIG5', 'TIG6', 'TIG7', 'TIG8', 'PPG1', 'PPG2', 'PPG3', 'PPG4', 'PPG5', 'PPG6', 'PPG7', 'PPG8', 'FOD1', 'FOD2', 'FOD3', 'FOD4', 'FOD5', 'FOD6', 'FOD7', 'FOD8', 'FOD9', 'FOD10', 'FOD11', 'FOD12', 'FOD13', 'FOD14', 'FOD15', 'CAD1', 'CAD2', 'CAD3', 'CAD4', 'CAD5', 'CAD6', 'CAD7', 'CAD8', 'CAD9', 'CAD10', 'CAD11', 'CAD12', 'AD1', 'AD2', 'AD3', 'AD4', 'AD5', 'AD6', 'AD7', 'AD8', 'AD9', 'AD10', 'MKR3+', 'HAD1', 'HAD2', 'HAD3', 'HAD4', 'HAD5', 'HAD6', 'HAD7', 'HAD8', 'HAD9', 'HAD10', 'HAD11', 'HAD12', 'HPD1', 'HPD2', 'HPD3', 'HPD4', 'HPD5', 'HPD6', 'HPD7', 'HPD8', 'HPD9', 'HPD10', 'HPD11', 'HPD12', 'PPD1', 'PPD2', 'PPD3', 'PPD4', 'PPD5', 'PPD6', 'PPD7', 'PPD8', 'ECG+', 'ECG-', 'Xe1', 'Xe2', 'Xe3', 'Xe4', 'Xe5', 'Xe6', 'MKR4+']\n",
      "(212, 3542528)\n",
      "\n",
      "\n",
      "*****----------------   FLM   ----------------*****\n",
      "\n"
     ]
    },
    {
     "name": "stderr",
     "output_type": "stream",
     "text": [
      "objc[81742]: Class QCocoaPageLayoutDelegate is implemented in both /Library/Frameworks/Python.framework/Versions/3.7/lib/python3.7/site-packages/cv2/.dylibs/QtGui (0x12975a5c0) and /Library/Frameworks/Python.framework/Versions/3.7/lib/python3.7/site-packages/PyQt5/Qt/lib/QtPrintSupport.framework/Versions/5/QtPrintSupport (0x132629478). One of the two will be used. Which one is undefined.\n",
      "objc[81742]: Class QCocoaPrintPanelDelegate is implemented in both /Library/Frameworks/Python.framework/Versions/3.7/lib/python3.7/site-packages/cv2/.dylibs/QtGui (0x12975a638) and /Library/Frameworks/Python.framework/Versions/3.7/lib/python3.7/site-packages/PyQt5/Qt/lib/QtPrintSupport.framework/Versions/5/QtPrintSupport (0x1326294f0). One of the two will be used. Which one is undefined.\n",
      "objc[81742]: Class QCocoaApplicationDelegate is implemented in both /Library/Frameworks/Python.framework/Versions/3.7/lib/python3.7/site-packages/cv2/.dylibs/QtGui (0x12975a340) and /Library/Frameworks/Python.framework/Versions/3.7/lib/python3.7/site-packages/PyQt5/Qt/plugins/platforms/libqcocoa.dylib (0x1329732a0). One of the two will be used. Which one is undefined.\n",
      "objc[81742]: Class QNSApplication is implemented in both /Library/Frameworks/Python.framework/Versions/3.7/lib/python3.7/site-packages/cv2/.dylibs/QtGui (0x12975a2f0) and /Library/Frameworks/Python.framework/Versions/3.7/lib/python3.7/site-packages/PyQt5/Qt/plugins/platforms/libqcocoa.dylib (0x1329732f0). One of the two will be used. Which one is undefined.\n",
      "objc[81742]: Class QCocoaMenuLoader is implemented in both /Library/Frameworks/Python.framework/Versions/3.7/lib/python3.7/site-packages/cv2/.dylibs/QtGui (0x12975a2a0) and /Library/Frameworks/Python.framework/Versions/3.7/lib/python3.7/site-packages/PyQt5/Qt/plugins/platforms/libqcocoa.dylib (0x132973430). One of the two will be used. Which one is undefined.\n",
      "objc[81742]: Class QNSImageView is implemented in both /Library/Frameworks/Python.framework/Versions/3.7/lib/python3.7/site-packages/cv2/.dylibs/QtGui (0x12975a660) and /Library/Frameworks/Python.framework/Versions/3.7/lib/python3.7/site-packages/PyQt5/Qt/plugins/platforms/libqcocoa.dylib (0x1329734d0). One of the two will be used. Which one is undefined.\n",
      "objc[81742]: Class QNSStatusItem is implemented in both /Library/Frameworks/Python.framework/Versions/3.7/lib/python3.7/site-packages/cv2/.dylibs/QtGui (0x12975a6b0) and /Library/Frameworks/Python.framework/Versions/3.7/lib/python3.7/site-packages/PyQt5/Qt/plugins/platforms/libqcocoa.dylib (0x132973520). One of the two will be used. Which one is undefined.\n",
      "objc[81742]: Class QNSOpenSavePanelDelegate is implemented in both /Library/Frameworks/Python.framework/Versions/3.7/lib/python3.7/site-packages/cv2/.dylibs/QtGui (0x12975a480) and /Library/Frameworks/Python.framework/Versions/3.7/lib/python3.7/site-packages/PyQt5/Qt/plugins/platforms/libqcocoa.dylib (0x132973610). One of the two will be used. Which one is undefined.\n"
     ]
    },
    {
     "name": "stdout",
     "output_type": "stream",
     "text": [
      "*   Data location.... : /var/folders/85/ct7qgj4500s62pw9zxkv_xc40000gn/T/tmp_mne_tempdir_era6bets\n",
      "\n",
      "\n",
      "Extracting EDF parameters from /Volumes/GoogleDrive/My Drive/EEG_DATA_PIERRE/PAT_3390/PAT_3390_EEG_860617_languageMapping.edf...\n",
      "EDF file detected\n",
      "Setting channel info structure...\n",
      "Creating raw.info structure...\n",
      "channels:  ['FOG1', 'FOG2', 'FOG3', 'FOG4', 'FOG5', 'FOG6', 'FOG7', 'FOG8', 'FOG9', 'FOG10', 'FOG11', 'FOG12', 'IAG1', 'IAG2', 'IAG3', 'IAG4', 'IAG5', 'IAG6', 'IAG7', 'IAG8', 'IAG9', 'IAG10', 'IAG11', 'IAG12', 'IAG13', 'IAG14', 'IAG15', 'IAG16', 'IAG17', 'IAG18', 'CAG1', 'CAG2', 'CAG3', 'CAG4', 'CAG5', 'CAG6', 'CAG7', 'CAG8', 'CAG9', 'CAG10', 'CAG11', 'CAG12', 'CPG1', 'CPG2', 'CPG3', 'CPG4', 'CPG5', 'CPG6', 'CPG7', 'CPG8', 'CPG9', 'CPG10', 'CPG11', 'CPG12', 'CPG13', 'CPG14', 'CPG15', 'EX1', 'EX2', 'EX3', 'EX4', 'EX5', 'EX6', 'EX7', 'MKR1+', 'TPG1', 'TPG2', 'TPG3', 'TPG4', 'TPG5', 'AG1', 'AG2', 'AG3', 'AG4', 'AG5', 'AG6', 'AG7', 'AG8', 'AG9', 'AG10', 'AG11', 'AG12', 'HAG1', 'HAG2', 'HAG3', 'HAG4', 'HAG5', 'HAG6', 'HAG7', 'HAG8', 'HAG9', 'HAG10', 'HAG11', 'HAG12', 'HPG1', 'HPG2', 'HPG3', 'HPG4', 'HPG5', 'HPG6', 'HPG7', 'HPG8', 'HPG9', 'HPG10', 'PHG1', 'PHG2', 'PHG3', 'PHG4', 'PHG5', 'PHG6', 'PHG7', 'PHG8', 'PHG9', 'PHG10', 'PHG11', 'PHG12', 'TOL1', 'TOL2', 'TOL3', 'TOL4', 'TOL5', 'TOL6', 'TOL7', 'TOL8', 'TOL9', 'TOL10', 'ECG+', 'ECG-', 'PHOTO', 'MKR2+']\n",
      "2695168 (2695168,)\n",
      "*   length of onset indexes:  154\n",
      "*   length of offset indexes:  161\n",
      "*   length of Time & Trigger:  2695168   2695168\n"
     ]
    }
   ],
   "source": [
    "import os\n",
    "import numpy as np\n",
    "import mne\n",
    "from mne.utils import _TempDir\n",
    "import matplotlib.pyplot as plt\n",
    "import pyqtgraph as pg\n",
    "import pyqtgraph as plotWidget\n",
    "from get_trigger_indexes_photodiode import normalized\n",
    "%matplotlib qt\n",
    "from pd_parser.parse_pd import _read_raw, _to_tsv\n",
    "import time\n",
    "from get_trigger_indexes_photodiode import get_trigger_indexes_photodiode\n",
    "from datetime import datetime\n",
    "import read_trc\n",
    "import struct\n",
    "%matplotlib qt\n",
    "\n",
    "\n",
    "\n",
    "# DEFINE PATHS\n",
    "Exper = 'FLM'\n",
    "PT_id = 'PAT_3390' #TODO\n",
    "filename_edf = 'PAT_3390_EEG_860617_languageMapping.edf' #TODO\n",
    "# PREDEFINED PATHS\n",
    "data_path = '/Volumes/GoogleDrive/My Drive/EEG_DATA_PIERRE'\n",
    "script_path = '/Volumes/GoogleDrive/My Drive/EEG_DATA_PIERRE/Scripts'\n",
    "data_raw_file = os.path.join(data_path,PT_id, filename_edf)\n",
    "\n",
    "\n",
    "# LOAD TRIGGER DATA \n",
    "print('\\n\\n*****----------------  ',Exper,'  ----------------*****\\n' )\n",
    "fig = plt.figure(figsize=(100, 2))\n",
    "trig_chan_name = 'PHOTO'\n",
    "t_onset_s= 0\n",
    "t_offset_s= -1\n",
    "index_onset,index_offset , trigger_ch_new,_ = get_trigger_indexes_photodiode(data_raw_file = data_raw_file, data_path=data_path,t_start= t_onset_s, t_end=t_offset_s,threshold_val=0.75, trigger_channel=trig_chan_name)\n",
    "\n",
    "# FROM ABOVE PLOT, FILL THE TRIGGER ONSET OFFSETS PER EACH BLOCK\n",
    "t_onset_s1= 400000 #TODO\n",
    "t_offset_s1= 840000 #TODO\n",
    "t_onset_s2= 970000 #TODO\n",
    "t_offset_s2= 1680000 #TODO\n",
    "t_onset_s3= 1690000 #TODO\n",
    "t_offset_s3= 2500000 #TODO\n",
    "\n"
   ]
  },
  {
   "cell_type": "markdown",
   "metadata": {},
   "source": [
    "### Extract the PD Trigger"
   ]
  },
  {
   "cell_type": "code",
   "execution_count": 2,
   "metadata": {},
   "outputs": [
    {
     "name": "stdout",
     "output_type": "stream",
     "text": [
      "\n",
      "\n",
      "*****----------------   FLM_image   ----------------*****\n",
      "\n",
      "*   Data location.... : /var/folders/85/ct7qgj4500s62pw9zxkv_xc40000gn/T/tmp_mne_tempdir_cu8_i0j4\n",
      "\n",
      "\n",
      "Extracting EDF parameters from /Volumes/GoogleDrive/My Drive/EEG_DATA_PIERRE/PAT_3390/PAT_3390_EEG_860617_languageMapping.edf...\n",
      "EDF file detected\n",
      "Setting channel info structure...\n",
      "Creating raw.info structure...\n",
      "channels:  ['FOG1', 'FOG2', 'FOG3', 'FOG4', 'FOG5', 'FOG6', 'FOG7', 'FOG8', 'FOG9', 'FOG10', 'FOG11', 'FOG12', 'IAG1', 'IAG2', 'IAG3', 'IAG4', 'IAG5', 'IAG6', 'IAG7', 'IAG8', 'IAG9', 'IAG10', 'IAG11', 'IAG12', 'IAG13', 'IAG14', 'IAG15', 'IAG16', 'IAG17', 'IAG18', 'CAG1', 'CAG2', 'CAG3', 'CAG4', 'CAG5', 'CAG6', 'CAG7', 'CAG8', 'CAG9', 'CAG10', 'CAG11', 'CAG12', 'CPG1', 'CPG2', 'CPG3', 'CPG4', 'CPG5', 'CPG6', 'CPG7', 'CPG8', 'CPG9', 'CPG10', 'CPG11', 'CPG12', 'CPG13', 'CPG14', 'CPG15', 'EX1', 'EX2', 'EX3', 'EX4', 'EX5', 'EX6', 'EX7', 'MKR1+', 'TPG1', 'TPG2', 'TPG3', 'TPG4', 'TPG5', 'AG1', 'AG2', 'AG3', 'AG4', 'AG5', 'AG6', 'AG7', 'AG8', 'AG9', 'AG10', 'AG11', 'AG12', 'HAG1', 'HAG2', 'HAG3', 'HAG4', 'HAG5', 'HAG6', 'HAG7', 'HAG8', 'HAG9', 'HAG10', 'HAG11', 'HAG12', 'HPG1', 'HPG2', 'HPG3', 'HPG4', 'HPG5', 'HPG6', 'HPG7', 'HPG8', 'HPG9', 'HPG10', 'PHG1', 'PHG2', 'PHG3', 'PHG4', 'PHG5', 'PHG6', 'PHG7', 'PHG8', 'PHG9', 'PHG10', 'PHG11', 'PHG12', 'TOL1', 'TOL2', 'TOL3', 'TOL4', 'TOL5', 'TOL6', 'TOL7', 'TOL8', 'TOL9', 'TOL10', 'ECG+', 'ECG-', 'PHOTO', 'MKR2+']\n",
      "440000 (440000,)\n",
      "*   length of onset indexes:  50\n",
      "*   length of offset indexes:  51\n",
      "*   length of Time & Trigger:  440000   440000\n",
      "\n",
      "\n",
      "*****---------------- FLM_audio   ----------------*****\n",
      "\n",
      "*   Data location.... : /var/folders/85/ct7qgj4500s62pw9zxkv_xc40000gn/T/tmp_mne_tempdir__7yhwxem\n",
      "\n",
      "\n",
      "Extracting EDF parameters from /Volumes/GoogleDrive/My Drive/EEG_DATA_PIERRE/PAT_3390/PAT_3390_EEG_860617_languageMapping.edf...\n",
      "EDF file detected\n",
      "Setting channel info structure...\n",
      "Creating raw.info structure...\n",
      "channels:  ['FOG1', 'FOG2', 'FOG3', 'FOG4', 'FOG5', 'FOG6', 'FOG7', 'FOG8', 'FOG9', 'FOG10', 'FOG11', 'FOG12', 'IAG1', 'IAG2', 'IAG3', 'IAG4', 'IAG5', 'IAG6', 'IAG7', 'IAG8', 'IAG9', 'IAG10', 'IAG11', 'IAG12', 'IAG13', 'IAG14', 'IAG15', 'IAG16', 'IAG17', 'IAG18', 'CAG1', 'CAG2', 'CAG3', 'CAG4', 'CAG5', 'CAG6', 'CAG7', 'CAG8', 'CAG9', 'CAG10', 'CAG11', 'CAG12', 'CPG1', 'CPG2', 'CPG3', 'CPG4', 'CPG5', 'CPG6', 'CPG7', 'CPG8', 'CPG9', 'CPG10', 'CPG11', 'CPG12', 'CPG13', 'CPG14', 'CPG15', 'EX1', 'EX2', 'EX3', 'EX4', 'EX5', 'EX6', 'EX7', 'MKR1+', 'TPG1', 'TPG2', 'TPG3', 'TPG4', 'TPG5', 'AG1', 'AG2', 'AG3', 'AG4', 'AG5', 'AG6', 'AG7', 'AG8', 'AG9', 'AG10', 'AG11', 'AG12', 'HAG1', 'HAG2', 'HAG3', 'HAG4', 'HAG5', 'HAG6', 'HAG7', 'HAG8', 'HAG9', 'HAG10', 'HAG11', 'HAG12', 'HPG1', 'HPG2', 'HPG3', 'HPG4', 'HPG5', 'HPG6', 'HPG7', 'HPG8', 'HPG9', 'HPG10', 'PHG1', 'PHG2', 'PHG3', 'PHG4', 'PHG5', 'PHG6', 'PHG7', 'PHG8', 'PHG9', 'PHG10', 'PHG11', 'PHG12', 'TOL1', 'TOL2', 'TOL3', 'TOL4', 'TOL5', 'TOL6', 'TOL7', 'TOL8', 'TOL9', 'TOL10', 'ECG+', 'ECG-', 'PHOTO', 'MKR2+']\n",
      "710000 (710000,)\n",
      "*   length of onset indexes:  49\n",
      "*   length of offset indexes:  51\n",
      "*   length of Time & Trigger:  710000   710000\n",
      "\n",
      "\n",
      "*****---------------- FLM_reading   ----------------*****\n",
      "\n",
      "*   Data location.... : /var/folders/85/ct7qgj4500s62pw9zxkv_xc40000gn/T/tmp_mne_tempdir_y699q30w\n",
      "\n",
      "\n",
      "Extracting EDF parameters from /Volumes/GoogleDrive/My Drive/EEG_DATA_PIERRE/PAT_3390/PAT_3390_EEG_860617_languageMapping.edf...\n",
      "EDF file detected\n",
      "Setting channel info structure...\n",
      "Creating raw.info structure...\n",
      "channels:  ['FOG1', 'FOG2', 'FOG3', 'FOG4', 'FOG5', 'FOG6', 'FOG7', 'FOG8', 'FOG9', 'FOG10', 'FOG11', 'FOG12', 'IAG1', 'IAG2', 'IAG3', 'IAG4', 'IAG5', 'IAG6', 'IAG7', 'IAG8', 'IAG9', 'IAG10', 'IAG11', 'IAG12', 'IAG13', 'IAG14', 'IAG15', 'IAG16', 'IAG17', 'IAG18', 'CAG1', 'CAG2', 'CAG3', 'CAG4', 'CAG5', 'CAG6', 'CAG7', 'CAG8', 'CAG9', 'CAG10', 'CAG11', 'CAG12', 'CPG1', 'CPG2', 'CPG3', 'CPG4', 'CPG5', 'CPG6', 'CPG7', 'CPG8', 'CPG9', 'CPG10', 'CPG11', 'CPG12', 'CPG13', 'CPG14', 'CPG15', 'EX1', 'EX2', 'EX3', 'EX4', 'EX5', 'EX6', 'EX7', 'MKR1+', 'TPG1', 'TPG2', 'TPG3', 'TPG4', 'TPG5', 'AG1', 'AG2', 'AG3', 'AG4', 'AG5', 'AG6', 'AG7', 'AG8', 'AG9', 'AG10', 'AG11', 'AG12', 'HAG1', 'HAG2', 'HAG3', 'HAG4', 'HAG5', 'HAG6', 'HAG7', 'HAG8', 'HAG9', 'HAG10', 'HAG11', 'HAG12', 'HPG1', 'HPG2', 'HPG3', 'HPG4', 'HPG5', 'HPG6', 'HPG7', 'HPG8', 'HPG9', 'HPG10', 'PHG1', 'PHG2', 'PHG3', 'PHG4', 'PHG5', 'PHG6', 'PHG7', 'PHG8', 'PHG9', 'PHG10', 'PHG11', 'PHG12', 'TOL1', 'TOL2', 'TOL3', 'TOL4', 'TOL5', 'TOL6', 'TOL7', 'TOL8', 'TOL9', 'TOL10', 'ECG+', 'ECG-', 'PHOTO', 'MKR2+']\n",
      "810000 (810000,)\n",
      "*   length of onset indexes:  46\n",
      "*   length of offset indexes:  54\n",
      "*   length of Time & Trigger:  810000   810000\n"
     ]
    }
   ],
   "source": [
    "from get_trigger_indexes_photodiode import get_trigger_indexes_photodiode\n",
    "from datetime import datetime\n",
    "%matplotlib qt\n",
    "\n",
    "fig = plt.figure(figsize=(100, 2))\n",
    "# # t_onset_s = input(\"Enter cut start time: \")\n",
    "# # t_offset_s = input(\"Enter cut end time: \")\n",
    "# # t_onset_s= 550000\n",
    "# # t_offset_s= 3310000\n",
    "\n",
    "Exper = 'FLM_image'\n",
    "print('\\n\\n*****----------------  ',Exper,'  ----------------*****\\n' )\n",
    "\n",
    "t_onset_s= t_onset_s1\n",
    "t_offset_s= t_offset_s1\n",
    "index_onset,index_offset , trigger_ch_new,_ = get_trigger_indexes_photodiode(data_raw_file = data_raw_file, data_path=data_path,t_start= t_onset_s, t_end=t_offset_s,threshold_val=0.75,trigger_channel=trig_chan_name)\n",
    "\n",
    "date_txt=str(datetime.date(datetime.now()))\n",
    "name_txt = PT_id +Exper+'_triggerPD_' + date_txt+'.txt'\n",
    "with open(os.path.join(data_path,name_txt ), \"w\") as textfile:\n",
    "    textfile.write('onsets;offsets\\n')\n",
    "    XY = [i for i in zip(index_onset, index_offset)]\n",
    "    for x, y in XY:\n",
    "        textfile.write(str(x)+';'+str(y))\n",
    "        textfile.write('\\n')\n",
    "    textfile.close()\n",
    "\n",
    "#     # 28840\n",
    "#     # 30446\n",
    "# # index_on_true=index_onset\n",
    "# # index_off_true=index_offset\n",
    "\n",
    "Exper = 'FLM_audio'\n",
    "print('\\n\\n*****----------------',Exper,'  ----------------*****\\n' )\n",
    "t_onset_s= t_onset_s2\n",
    "t_offset_s= t_offset_s2\n",
    "index_onset,index_offset , trigger_ch_new,_ = get_trigger_indexes_photodiode(data_raw_file = data_raw_file, data_path=data_path,t_start= t_onset_s, t_end=t_offset_s,threshold_val=0.75,trigger_channel=trig_chan_name)\n",
    "\n",
    "date_txt=str(datetime.date(datetime.now()))\n",
    "name_txt = PT_id +Exper+'_triggerPD_' + date_txt+'.txt'\n",
    "with open(os.path.join(data_path,name_txt ), \"w\") as textfile:\n",
    "    textfile.write('onsets;offsets\\n')\n",
    "    XY = [i for i in zip(index_onset, index_offset)]\n",
    "    for x, y in XY:\n",
    "        textfile.write(str(x)+';'+str(y))\n",
    "        textfile.write('\\n')\n",
    "    textfile.close()\n",
    "\n",
    "    # 28840\n",
    "    # 30446\n",
    "# index_on_true=index_onset\n",
    "# index_off_true=index_offset\n",
    "\n",
    "\n",
    "\n",
    "Exper = 'FLM_reading'\n",
    "print('\\n\\n*****----------------',Exper,'  ----------------*****\\n' )\n",
    "t_onset_s= t_onset_s3\n",
    "t_offset_s= t_offset_s3\n",
    "index_onset,index_offset , trigger_ch_new,_ = get_trigger_indexes_photodiode(data_raw_file = data_raw_file, data_path=data_path,t_start= t_onset_s, t_end=t_offset_s,threshold_val=0.75,trigger_channel=trig_chan_name)\n",
    "\n",
    "date_txt=str(datetime.date(datetime.now()))\n",
    "name_txt = PT_id +Exper+'_triggerPD_' + date_txt+'.txt'\n",
    "with open(os.path.join(data_path,name_txt ), \"w\") as textfile:\n",
    "    textfile.write('onsets;offsets\\n')\n",
    "    XY = [i for i in zip(index_onset, index_offset)]\n",
    "    for x, y in XY:\n",
    "        textfile.write(str(x)+';'+str(y))\n",
    "        textfile.write('\\n')\n",
    "    textfile.close()\n",
    "\n",
    "    # 28840\n",
    "    # 30446\n",
    "# index_on_true=index_onset\n",
    "# index_off_true=index_offset\n",
    "# t_onset_s= 1022000\n",
    "# t_offset_s= 1900000\n",
    "# index_onset,index_offset , trigger_ch_new,_ = get_trigger_indexes_photodiode(data_raw_file = data_raw_file, data_path=data_path,t_start= t_onset_s, t_end=t_offset_s,threshold_val=0.75)\n",
    "\n",
    "# index_on_true=index_onset\n",
    "# index_off_true=index_offset\n",
    "\n",
    "# t_onset_s= 1022000\n",
    "# t_offset_s= 1900000\n",
    "# index_onset,index_offset , trigger_ch_new,_ = get_trigger_indexes_photodiode(data_raw_file = data_raw_file, data_path=data_path,t_start= t_onset_s, t_end=t_offset_s,threshold_val=0.75)\n",
    "\n",
    "# index_on_true=index_onset\n",
    "# index_off_true=index_offset\n"
   ]
  },
  {
   "cell_type": "markdown",
   "metadata": {},
   "source": [
    "### VALIDATION\n",
    "Assert that the trigger onset and offset are a pair and the onset is before the offset"
   ]
  },
  {
   "cell_type": "markdown",
   "metadata": {},
   "source": []
  },
  {
   "cell_type": "code",
   "execution_count": 3,
   "metadata": {},
   "outputs": [],
   "source": [
    "# VALIDATION\n",
    "# index_on_true=index_onset\n",
    "# index_off_true=index_offset\n",
    "# index_onset = list(index_onset)\n",
    "# index_offset = list(index_offset)\n",
    "# validity = [] # 0 for invalid, 1 for valid\n",
    "# for i in range(min([len(index_on_true),len(index_off_true)])):\n",
    "#     tempe=True\n",
    "#     # print(i)\n",
    "#     # if i >= min([len(index_on_true),len(index_off_true)]):\n",
    "#     #     validity.append(0)\n",
    "#     if index_onset[i] < index_offset[i]:\n",
    "#         while tempe:\n",
    "#             while index_onset[i] < index_offset[i]:\n",
    "#                 if index_onset[i+1] <index_offset[i]:\n",
    "#                     # print(index_onset[i])\n",
    "#                     index_onset.pop(i)\n",
    "#                     validity.append(0)\n",
    "#                     tempe=False\n",
    "#                     break\n",
    "#                 else:\n",
    "#                     validity.append(1)\n",
    "#                     tempe=False\n",
    "#                     break\n",
    "#     else:\n",
    "#         while tempe:\n",
    "#             while index_onset[i] > index_offset[i]:\n",
    "#                 if index_onset[i+1] >index_offset[i]:\n",
    "#                     index_offset.pop(i)\n",
    "#                     validity.append(0)\n",
    "#                     tempte=False\n",
    "#                 else:\n",
    "#                     validity.append(1)\n",
    "#                     tempe=False\n",
    "#                     break\n",
    "\n",
    "\n",
    "\n",
    "# if len(index_offset)!=len(index_onset):\n",
    "#     if len(index_offset)>len(index_onset):\n",
    "#         index_onset.append(0)\n",
    "diff_oo=[index_offset[i]-index_onset[i] for i in range(len(index_offset))]\n",
    "assert np.min(diff_oo)>=0\n",
    "# print(validity, len(validity),len(index_onset),len(index_offset))\n",
    "# validity=np.array(validity)"
   ]
  },
  {
   "cell_type": "code",
   "execution_count": 4,
   "metadata": {},
   "outputs": [
    {
     "name": "stdout",
     "output_type": "stream",
     "text": [
      "(2181120,)\n"
     ]
    },
    {
     "data": {
      "text/plain": [
       "<pyqtgraph.graphicsItems.PlotDataItem.PlotDataItem at 0x7fa5756755f0>"
      ]
     },
     "execution_count": 4,
     "metadata": {},
     "output_type": "execute_result"
    }
   ],
   "source": [
    "\n",
    "# VISUALIZE\n",
    "fig = plt.figure(figsize=(100, 2))\n",
    "print(np.shape(trigger_ch2))\n",
    "import pyqtgraph as pg\n",
    "import pyqtgraph as plotWidget\n",
    "# pg.plot(time_s,trigger_ch2)\n",
    "# pg.plot(time_s,index_onset)\n",
    "# plt.close(fig)\n",
    "time_s = np.linspace(0,len(trigger_ch2),num=len(trigger_ch2))\n",
    "plotWidget = pg.plot(title=\"Validation of Triggers PD: x is onset, o is offset\")\n",
    "plotWidget.plot(time_s,trigger_ch2)\n",
    "plotWidget.plot(index_offset,trigger_ch2[index_offset],pen=None, symbol='o')\n",
    "plotWidget.plot(index_onset,trigger_ch2[index_onset],pen=None, symbol='x')\n",
    "# plotWidget.plot(index_onset[validity==False],trigger_ch2[index_onset[validity==False]],pen=None, symbol='x')\n",
    "\n",
    "# plotWidget.show()"
   ]
  },
  {
   "cell_type": "markdown",
   "metadata": {},
   "source": [
    "### Save The Data"
   ]
  },
  {
   "cell_type": "code",
   "execution_count": 6,
   "metadata": {},
   "outputs": [],
   "source": [
    "from datetime import datetime\n",
    "date_txt=str(datetime.date(datetime.now()))\n",
    "name_txt = PT_id +Exper+'_triggerPD_' + date_txt+'.txt'\n",
    "with open(os.path.join(data_path,name_txt ), \"w\") as textfile:\n",
    "    textfile.write('onsets;offsets\\n')\n",
    "    XY = [i for i in zip(index_onset, index_offset)]\n",
    "    for x, y in XY:\n",
    "        textfile.write(str(x)+';'+str(y))\n",
    "        textfile.write('\\n')\n",
    "    textfile.close()\n",
    "\n",
    "    # 28840\n",
    "    # 30446"
   ]
  },
  {
   "cell_type": "markdown",
   "metadata": {},
   "source": [
    "### FINISHED HERE: \n",
    "##### Everything below is draft"
   ]
  }
 ],
 "metadata": {
  "interpreter": {
   "hash": "aee8b7b246df8f9039afb4144a1f6fd8d2ca17a180786b69acc140d282b71a49"
  },
  "kernelspec": {
   "display_name": "Python 3.7.4 64-bit",
   "language": "python",
   "name": "python3"
  },
  "language_info": {
   "codemirror_mode": {
    "name": "ipython",
    "version": 3
   },
   "file_extension": ".py",
   "mimetype": "text/x-python",
   "name": "python",
   "nbconvert_exporter": "python",
   "pygments_lexer": "ipython3",
   "version": "3.7.4"
  },
  "orig_nbformat": 4
 },
 "nbformat": 4,
 "nbformat_minor": 2
}
