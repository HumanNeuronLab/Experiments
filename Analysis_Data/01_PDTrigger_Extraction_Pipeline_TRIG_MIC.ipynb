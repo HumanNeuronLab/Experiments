{
 "cells": [
  {
   "cell_type": "markdown",
   "metadata": {},
   "source": [
    "# Analysis Pipeline for Intracranial Data\n",
    "\n",
    "\n",
    "## STEPS:\n",
    "##### 1. run the IMPORT AND LOAD DATA section.\n",
    "\n",
    "##### 2. fill in the values extracted from the plot from step 1 for following variables:\n",
    "\n",
    "\n",
    "Let's go"
   ]
  },
  {
   "cell_type": "code",
   "execution_count": 15,
   "metadata": {},
   "outputs": [
    {
     "data": {
      "text/html": [
       "<table class=\"table table-hover table-striped table-sm table-responsive small\">\n",
       "    <tr>\n",
       "        <th>Measurement date</th>\n",
       "        \n",
       "        <td>August 03, 2022  15:52:44 GMT</td>\n",
       "        \n",
       "    </tr>\n",
       "    <tr>\n",
       "        <th>Experimenter</th>\n",
       "        \n",
       "        <td>Unknown</td>\n",
       "        \n",
       "    </tr>\n",
       "        <th>Participant</th>\n",
       "        \n",
       "        <td>Unknown</td>\n",
       "        \n",
       "    </tr>\n",
       "    <tr>\n",
       "        <th>Digitized points</th>\n",
       "        \n",
       "        <td>0 points</td>\n",
       "        \n",
       "    </tr>\n",
       "    <tr>\n",
       "        <th>Good channels</th>\n",
       "        <td>26 EEG</td>\n",
       "    </tr>\n",
       "    <tr>\n",
       "        <th>Bad channels</th>\n",
       "        <td>None</td>\n",
       "    </tr>\n",
       "    <tr>\n",
       "        <th>EOG channels</th>\n",
       "        <td>Not available</td>\n",
       "    </tr>\n",
       "    <tr>\n",
       "        <th>ECG channels</th>\n",
       "        <td>Not available</td>\n",
       "    \n",
       "    <tr>\n",
       "        <th>Sampling frequency</th>\n",
       "        <td>256.00 Hz</td>\n",
       "    </tr>\n",
       "    \n",
       "    \n",
       "    <tr>\n",
       "        <th>Highpass</th>\n",
       "        <td>0.00 Hz</td>\n",
       "    </tr>\n",
       "    \n",
       "    \n",
       "    <tr>\n",
       "        <th>Lowpass</th>\n",
       "        <td>128.00 Hz</td>\n",
       "    </tr>\n",
       "    \n",
       "    \n",
       "</table>"
      ],
      "text/plain": [
       "<Info | 7 non-empty values\n",
       " bads: []\n",
       " ch_names: Fp1, Fp2, F7, F3, Fz, F4, F8, T7, C3, Cz, C4, T8, P7, P3, Pz, ...\n",
       " chs: 26 EEG\n",
       " custom_ref_applied: False\n",
       " highpass: 0.0 Hz\n",
       " lowpass: 128.0 Hz\n",
       " meas_date: 2022-08-03 15:52:44 UTC\n",
       " nchan: 26\n",
       " projs: []\n",
       " sfreq: 256.0 Hz\n",
       ">"
      ]
     },
     "execution_count": 15,
     "metadata": {},
     "output_type": "execute_result"
    }
   ],
   "source": [
    "trigger_ch.info"
   ]
  },
  {
   "cell_type": "code",
   "execution_count": 1,
   "metadata": {},
   "outputs": [
    {
     "name": "stdout",
     "output_type": "stream",
     "text": [
      "PAT_3066\n"
     ]
    },
    {
     "name": "stderr",
     "output_type": "stream",
     "text": [
      "objc[41252]: Class QCocoaPageLayoutDelegate is implemented in both /Library/Frameworks/Python.framework/Versions/3.7/lib/python3.7/site-packages/cv2/.dylibs/QtGui (0x1246d85c0) and /Library/Frameworks/Python.framework/Versions/3.7/lib/python3.7/site-packages/PyQt5/Qt/lib/QtPrintSupport.framework/Versions/5/QtPrintSupport (0x12d793478). One of the two will be used. Which one is undefined.\n",
      "objc[41252]: Class QCocoaPrintPanelDelegate is implemented in both /Library/Frameworks/Python.framework/Versions/3.7/lib/python3.7/site-packages/cv2/.dylibs/QtGui (0x1246d8638) and /Library/Frameworks/Python.framework/Versions/3.7/lib/python3.7/site-packages/PyQt5/Qt/lib/QtPrintSupport.framework/Versions/5/QtPrintSupport (0x12d7934f0). One of the two will be used. Which one is undefined.\n",
      "objc[41252]: Class QCocoaApplicationDelegate is implemented in both /Library/Frameworks/Python.framework/Versions/3.7/lib/python3.7/site-packages/cv2/.dylibs/QtGui (0x1246d8340) and /Library/Frameworks/Python.framework/Versions/3.7/lib/python3.7/site-packages/PyQt5/Qt/plugins/platforms/libqcocoa.dylib (0x12d9b12a0). One of the two will be used. Which one is undefined.\n",
      "objc[41252]: Class QNSApplication is implemented in both /Library/Frameworks/Python.framework/Versions/3.7/lib/python3.7/site-packages/cv2/.dylibs/QtGui (0x1246d82f0) and /Library/Frameworks/Python.framework/Versions/3.7/lib/python3.7/site-packages/PyQt5/Qt/plugins/platforms/libqcocoa.dylib (0x12d9b12f0). One of the two will be used. Which one is undefined.\n",
      "objc[41252]: Class QCocoaMenuLoader is implemented in both /Library/Frameworks/Python.framework/Versions/3.7/lib/python3.7/site-packages/cv2/.dylibs/QtGui (0x1246d82a0) and /Library/Frameworks/Python.framework/Versions/3.7/lib/python3.7/site-packages/PyQt5/Qt/plugins/platforms/libqcocoa.dylib (0x12d9b1430). One of the two will be used. Which one is undefined.\n",
      "objc[41252]: Class QNSImageView is implemented in both /Library/Frameworks/Python.framework/Versions/3.7/lib/python3.7/site-packages/cv2/.dylibs/QtGui (0x1246d8660) and /Library/Frameworks/Python.framework/Versions/3.7/lib/python3.7/site-packages/PyQt5/Qt/plugins/platforms/libqcocoa.dylib (0x12d9b14d0). One of the two will be used. Which one is undefined.\n",
      "objc[41252]: Class QNSStatusItem is implemented in both /Library/Frameworks/Python.framework/Versions/3.7/lib/python3.7/site-packages/cv2/.dylibs/QtGui (0x1246d86b0) and /Library/Frameworks/Python.framework/Versions/3.7/lib/python3.7/site-packages/PyQt5/Qt/plugins/platforms/libqcocoa.dylib (0x12d9b1520). One of the two will be used. Which one is undefined.\n",
      "objc[41252]: Class QNSOpenSavePanelDelegate is implemented in both /Library/Frameworks/Python.framework/Versions/3.7/lib/python3.7/site-packages/cv2/.dylibs/QtGui (0x1246d8480) and /Library/Frameworks/Python.framework/Versions/3.7/lib/python3.7/site-packages/PyQt5/Qt/plugins/platforms/libqcocoa.dylib (0x12d9b1610). One of the two will be used. Which one is undefined.\n"
     ]
    },
    {
     "name": "stdout",
     "output_type": "stream",
     "text": [
      "Extracting EDF parameters from /Volumes/GoogleDrive/My Drive/EEG_DATA_PIERRE/EEG_1051662_test_AudCatLoc_latency_w_microphone.edf...\n",
      "EDF file detected\n",
      "Setting channel info structure...\n",
      "Creating raw.info structure...\n",
      "*   Trigger channel length:  <bound method BaseRaw.__len__ of <RawEDF | EEG_1051662_test_AudCatLoc_latency_w_microphone.edf, 26 x 36608 (143.0 s), ~30 kB, data not loaded>>\n",
      "['Fp1', 'Fp2', 'F7', 'F3', 'Fz', 'F4', 'F8', 'T7', 'C3', 'Cz', 'C4', 'T8', 'P7', 'P3', 'Pz', 'P4', 'P8', 'O1', 'O2', 'F9', 'FT9', 'P9', 'F10', 'FT10', 'P10', 'MKR+']\n",
      "(36608,)\n"
     ]
    },
    {
     "data": {
      "text/plain": [
       "<pyqtgraph.graphicsItems.PlotDataItem.PlotDataItem at 0x7f88dad00690>"
      ]
     },
     "execution_count": 1,
     "metadata": {},
     "output_type": "execute_result"
    }
   ],
   "source": [
    "import os\n",
    "import numpy as np\n",
    "import mne\n",
    "from mne.utils import _TempDir\n",
    "import matplotlib.pyplot as plt\n",
    "import pyqtgraph as pg\n",
    "import pyqtgraph as plotWidget\n",
    "from get_trigger_indexes_photodiode import normalized\n",
    "%matplotlib qt\n",
    "from pd_parser.parse_pd import _read_raw, _to_tsv\n",
    "import time\n",
    "from get_trigger_indexes_photodiode import get_trigger_indexes_photodiode\n",
    "from datetime import datetime\n",
    "%matplotlib qt\n",
    "\n",
    "\n",
    "# DEFINE PATHS\n",
    "data_path = '/Volumes/GoogleDrive/My Drive/EEG_DATA_PIERRE'\n",
    "# PT_id = \n",
    "script_path = '/Volumes/GoogleDrive/My Drive/EEG_DATA_PIERRE/Scripts'\n",
    "# data_raw_file = os.path.join(data_path, 'PAT_3066_EEG_708977_Anon_CategoryLocalizer.edf')\n",
    "data_raw_file = os.path.join(data_path, 'EEG_1051662_test_AudCatLoc_latency_w_microphone.edf')\n",
    "# DEFINE PATHS ENDS\n",
    "\n",
    "# DEFINE NAMES\n",
    "Exper = 'CatLoc'\n",
    "PT_id = 'PAT_3066'\n",
    "print(PT_id)\n",
    "fig = plt.figure(figsize=(100, 2))\n",
    "# DEFINE NAMES ENDS\n",
    "\n",
    "# LOAD TRIGGER and MIC DATA \n",
    "# data_raw_file = os.path.join(data_path, 'PAT_3066_EEG_708977_Anon_CategoryLocalizer.edf') #PAT_3066_EEG_695997_Anon_FLM.edf\n",
    "# trigger_ch = mne.io.read_raw_edf(data_raw_file,exclude=['ECG+','ECG-','MKR4+','Xe2', 'Xe3', 'Xe4', 'Xe5', 'Xe6'])\n",
    "trigger_ch = mne.io.read_raw_edf(data_raw_file,exclude=['ECG+','ECG-'])\n",
    "print('*   Trigger channel length: ',trigger_ch.__len__)\n",
    "print(trigger_ch.info.ch_names)\n",
    "# picks = mne.pick_channels_regexp(trigger_ch.info.ch_names, regexp='MKR+')\n",
    "picks = mne.pick_channels_regexp(trigger_ch.info.ch_names, regexp='F7') \n",
    "trigger_ch2 = trigger_ch.get_data(picks=picks)\n",
    "picks = mne.pick_channels_regexp(trigger_ch.info.ch_names, regexp='F8') \n",
    "mic_channel = trigger_ch.get_data(picks=picks)\n",
    "trigger_ch2 = normalized(trigger_ch2[0].T)\n",
    "mic_channel = normalized(mic_channel[0].T)\n",
    "# LOAD TRIGGER and MIC DATA ENDS\n",
    "\n",
    "\n",
    "# VISUALIZE\n",
    "time_s = np.linspace(0,len(trigger_ch2),num=len(trigger_ch2))\n",
    "# fig = plt.figure(figsize=(100, 2))\n",
    "print(np.shape(trigger_ch2))\n",
    "import pyqtgraph as pg\n",
    "pg.setConfigOption('background','w')\n",
    "PlotWidget = pg.plot(time_s,trigger_ch2,title='trigger',pen='r')\n",
    "PlotWidget.plot(time_s,mic_channel,title='mic',pen='blue')\n",
    "# VISUALIZE ENDS\n"
   ]
  },
  {
   "cell_type": "markdown",
   "metadata": {},
   "source": [
    "### Extract the PD Trigger"
   ]
  },
  {
   "cell_type": "code",
   "execution_count": null,
   "metadata": {},
   "outputs": [],
   "source": [
    "# GET PHOTODIODE TRIGGERS\n",
    "Exper = 'MIC and Trig Test'\n",
    "print('\\n\\n*****----------------  ',Exper,'  ----------------*****\\n' )\n",
    "\n",
    "t_onset_s= 6000\n",
    "t_offset_s= 35000\n",
    "index_onset,index_offset , trigger_ch_new,_ = get_trigger_indexes_photodiode(data_raw_file = data_raw_file, data_path=data_path,t_start= t_onset_s, t_end=t_offset_s,threshold_val=0.75, trigger_channel='F7')\n",
    "\n"
   ]
  },
  {
   "cell_type": "markdown",
   "metadata": {},
   "source": [
    "### SAVE DATA:"
   ]
  },
  {
   "cell_type": "code",
   "execution_count": null,
   "metadata": {},
   "outputs": [],
   "source": [
    "\n",
    "date_txt=str(datetime.date(datetime.now()))\n",
    "name_txt = PT_id +Exper+'_triggerPD_' + date_txt+'.txt'\n",
    "with open(os.path.join(data_path,name_txt ), \"w\") as textfile:\n",
    "    textfile.write('onsets;offsets\\n')\n",
    "    XY = [i for i in zip(index_onset, index_offset)]\n",
    "    for x, y in XY:\n",
    "        textfile.write(str(x)+';'+str(y))\n",
    "        textfile.write('\\n')\n",
    "    textfile.close()\n",
    "\n",
    "#     # 28840\n"
   ]
  },
  {
   "cell_type": "markdown",
   "metadata": {},
   "source": [
    "### VALIDATION\n",
    "Assert that the trigger onset and offset are a pair and the onset is before the offset"
   ]
  },
  {
   "cell_type": "markdown",
   "metadata": {},
   "source": []
  },
  {
   "cell_type": "code",
   "execution_count": 3,
   "metadata": {},
   "outputs": [],
   "source": [
    "# VALIDATION\n",
    "# index_on_true=index_onset\n",
    "# index_off_true=index_offset\n",
    "# index_onset = list(index_onset)\n",
    "# index_offset = list(index_offset)\n",
    "# validity = [] # 0 for invalid, 1 for valid\n",
    "# for i in range(min([len(index_on_true),len(index_off_true)])):\n",
    "#     tempe=True\n",
    "#     # print(i)\n",
    "#     # if i >= min([len(index_on_true),len(index_off_true)]):\n",
    "#     #     validity.append(0)\n",
    "#     if index_onset[i] < index_offset[i]:\n",
    "#         while tempe:\n",
    "#             while index_onset[i] < index_offset[i]:\n",
    "#                 if index_onset[i+1] <index_offset[i]:\n",
    "#                     # print(index_onset[i])\n",
    "#                     index_onset.pop(i)\n",
    "#                     validity.append(0)\n",
    "#                     tempe=False\n",
    "#                     break\n",
    "#                 else:\n",
    "#                     validity.append(1)\n",
    "#                     tempe=False\n",
    "#                     break\n",
    "#     else:\n",
    "#         while tempe:\n",
    "#             while index_onset[i] > index_offset[i]:\n",
    "#                 if index_onset[i+1] >index_offset[i]:\n",
    "#                     index_offset.pop(i)\n",
    "#                     validity.append(0)\n",
    "#                     tempte=False\n",
    "#                 else:\n",
    "#                     validity.append(1)\n",
    "#                     tempe=False\n",
    "#                     break\n",
    "\n",
    "\n",
    "\n",
    "# if len(index_offset)!=len(index_onset):\n",
    "#     if len(index_offset)>len(index_onset):\n",
    "#         index_onset.append(0)\n",
    "# diff_oo=[index_offset[i]-index_onset[i] for i in range(len(index_offset))]\n",
    "# assert np.min(diff_oo)>=0\n",
    "# # print(validity, len(validity),len(index_onset),len(index_offset))\n",
    "# validity=np.array(validity)"
   ]
  },
  {
   "cell_type": "code",
   "execution_count": 4,
   "metadata": {},
   "outputs": [
    {
     "name": "stdout",
     "output_type": "stream",
     "text": [
      "(2181120,)\n"
     ]
    },
    {
     "data": {
      "text/plain": [
       "<pyqtgraph.graphicsItems.PlotDataItem.PlotDataItem at 0x7fa5756755f0>"
      ]
     },
     "execution_count": 4,
     "metadata": {},
     "output_type": "execute_result"
    }
   ],
   "source": [
    "\n",
    "# VISUALIZE\n",
    "fig = plt.figure(figsize=(100, 2))\n",
    "print(np.shape(trigger_ch2))\n",
    "import pyqtgraph as pg\n",
    "import pyqtgraph as plotWidget\n",
    "# pg.plot(time_s,trigger_ch2)\n",
    "# pg.plot(time_s,index_onset)\n",
    "# plt.close(fig)\n",
    "time_s = np.linspace(0,len(trigger_ch2),num=len(trigger_ch2))\n",
    "plotWidget = pg.plot(title=\"Validation of Triggers PD: x is onset, o is offset\")\n",
    "plotWidget.plot(time_s,trigger_ch2)\n",
    "plotWidget.plot(index_offset,trigger_ch2[index_offset],pen=None, symbol='o')\n",
    "plotWidget.plot(index_onset,trigger_ch2[index_onset],pen=None, symbol='x')\n",
    "# plotWidget.plot(index_onset[validity==False],trigger_ch2[index_onset[validity==False]],pen=None, symbol='x')\n",
    "\n",
    "# plotWidget.show()"
   ]
  },
  {
   "cell_type": "markdown",
   "metadata": {},
   "source": [
    "### Save The Data"
   ]
  },
  {
   "cell_type": "code",
   "execution_count": 6,
   "metadata": {},
   "outputs": [],
   "source": [
    "from datetime import datetime\n",
    "date_txt=str(datetime.date(datetime.now()))\n",
    "name_txt = PT_id +Exper+'_triggerPD_' + date_txt+'.txt'\n",
    "with open(os.path.join(data_path,name_txt ), \"w\") as textfile:\n",
    "    textfile.write('onsets;offsets\\n')\n",
    "    XY = [i for i in zip(index_onset, index_offset)]\n",
    "    for x, y in XY:\n",
    "        textfile.write(str(x)+';'+str(y))\n",
    "        textfile.write('\\n')\n",
    "    textfile.close()\n"
   ]
  },
  {
   "cell_type": "markdown",
   "metadata": {},
   "source": [
    "### FINISHED HERE: \n",
    "##### Everything below is draft"
   ]
  },
  {
   "cell_type": "code",
   "execution_count": 13,
   "metadata": {},
   "outputs": [],
   "source": [
    "\n",
    "## CHECKS ALL CHANNELS\n",
    "# for ch_nam in trigger_ch.info.ch_names:\n",
    "#     picks = mne.pick_channels_regexp(trigger_ch.info.ch_names, regexp=ch_nam) \n",
    "#     trigger_ch2 = trigger_ch.get_data(picks=picks)\n",
    "#     trigger_ch2 = trigger_ch2[0].T\n",
    "#     time_s = np.linspace(0,len(trigger_ch2),num=len(trigger_ch2))\n",
    "\n",
    "#     # VISUALIZE\n",
    "#     # fig = plt.figure(figsize=(100, 2))\n",
    "#     print(np.shape(trigger_ch2))\n",
    "#     import pyqtgraph as pg\n",
    "#     pg.plot(time_s,trigger_ch2,title=ch_nam)\n",
    "#     pg.parametertree\n",
    "## CHECKS ALL CHANNELS ENDS\n",
    "\n",
    "\n",
    "#     # 30446\n",
    "# # index_on_true=index_onset\n",
    "# # index_off_true=index_offset\n",
    "\n",
    "# Exper = 'FLM_audio'\n",
    "# print('\\n\\n*****----------------',Exper,'  ----------------*****\\n' )\n",
    "# t_onset_s= 1325000\n",
    "# t_offset_s= 2130000\n",
    "# index_onset,index_offset , trigger_ch_new,_ = get_trigger_indexes_photodiode(data_raw_file = data_raw_file, data_path=data_path,t_start= t_onset_s, t_end=t_offset_s,threshold_val=0.72)\n",
    "\n",
    "# date_txt=str(datetime.date(datetime.now()))\n",
    "# name_txt = PT_id +Exper+'_triggerPD_' + date_txt+'.txt'\n",
    "# with open(os.path.join(data_path,name_txt ), \"w\") as textfile:\n",
    "#     textfile.write('onsets;offsets\\n')\n",
    "#     XY = [i for i in zip(index_onset, index_offset)]\n",
    "#     for x, y in XY:\n",
    "#         textfile.write(str(x)+';'+str(y))\n",
    "#         textfile.write('\\n')\n",
    "#     textfile.close()\n",
    "\n",
    "    # 28840\n",
    "    # 30446\n",
    "# index_on_true=index_onset\n",
    "# index_off_true=index_offset\n",
    "\n",
    "\n",
    "\n",
    "# Exper = 'FLM_reading'\n",
    "# print('\\n\\n*****----------------',Exper,'  ----------------*****\\n' )\n",
    "# t_onset_s= 2702000\n",
    "# t_offset_s= 3315000\n",
    "# index_onset,index_offset , trigger_ch_new,_ = get_trigger_indexes_photodiode(data_raw_file = data_raw_file, data_path=data_path,t_start= t_onset_s, t_end=t_offset_s,threshold_val=0.75)\n",
    "\n",
    "# date_txt=str(datetime.date(datetime.now()))\n",
    "# name_txt = PT_id +Exper+'_triggerPD_' + date_txt+'.txt'\n",
    "# with open(os.path.join(data_path,name_txt ), \"w\") as textfile:\n",
    "#     textfile.write('onsets;offsets\\n')\n",
    "#     XY = [i for i in zip(index_onset, index_offset)]\n",
    "#     for x, y in XY:\n",
    "#         textfile.write(str(x)+';'+str(y))\n",
    "#         textfile.write('\\n')\n",
    "#     textfile.close()\n",
    "\n",
    "    # 28840\n",
    "    # 30446\n",
    "# index_on_true=index_onset\n",
    "# index_off_true=index_offset\n",
    "# t_onset_s= 1022000\n",
    "# t_offset_s= 1900000\n",
    "# index_onset,index_offset , trigger_ch_new,_ = get_trigger_indexes_photodiode(data_raw_file = data_raw_file, data_path=data_path,t_start= t_onset_s, t_end=t_offset_s,threshold_val=0.75)\n",
    "\n",
    "# index_on_true=index_onset\n",
    "# index_off_true=index_offset\n",
    "\n",
    "# t_onset_s= 1022000\n",
    "# t_offset_s= 1900000\n",
    "# index_onset,index_offset , trigger_ch_new,_ = get_trigger_indexes_photodiode(data_raw_file = data_raw_file, data_path=data_path,t_start= t_onset_s, t_end=t_offset_s,threshold_val=0.75)\n",
    "\n",
    "# index_on_true=index_onset\n",
    "# index_off_true=index_offset"
   ]
  },
  {
   "cell_type": "code",
   "execution_count": null,
   "metadata": {},
   "outputs": [],
   "source": []
  }
 ],
 "metadata": {
  "interpreter": {
   "hash": "aee8b7b246df8f9039afb4144a1f6fd8d2ca17a180786b69acc140d282b71a49"
  },
  "kernelspec": {
   "display_name": "Python 3.7.4 64-bit",
   "language": "python",
   "name": "python3"
  },
  "language_info": {
   "codemirror_mode": {
    "name": "ipython",
    "version": 3
   },
   "file_extension": ".py",
   "mimetype": "text/x-python",
   "name": "python",
   "nbconvert_exporter": "python",
   "pygments_lexer": "ipython3",
   "version": "3.7.4 (v3.7.4:e09359112e, Jul  8 2019, 14:54:52) \n[Clang 6.0 (clang-600.0.57)]"
  },
  "orig_nbformat": 4
 },
 "nbformat": 4,
 "nbformat_minor": 2
}
