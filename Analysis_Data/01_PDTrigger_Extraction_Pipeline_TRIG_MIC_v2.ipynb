{
 "cells": [
  {
   "cell_type": "markdown",
   "metadata": {},
   "source": [
    "# Analysis Pipeline for Intracranial Data\n",
    "\n",
    "\n",
    "## STEPS:\n",
    "##### 1. run the IMPORT AND LOAD DATA section.\n",
    "\n",
    "##### 2. fill in the values extracted from the plot from step 1 for following variables:\n",
    "\n",
    "\n",
    "Let's go"
   ]
  },
  {
   "cell_type": "code",
   "execution_count": 1,
   "metadata": {},
   "outputs": [
    {
     "name": "stderr",
     "output_type": "stream",
     "text": [
      "objc[1804]: Class QCocoaPageLayoutDelegate is implemented in both /Library/Frameworks/Python.framework/Versions/3.7/lib/python3.7/site-packages/cv2/.dylibs/QtGui (0x1249215c0) and /Library/Frameworks/Python.framework/Versions/3.7/lib/python3.7/site-packages/PyQt5/Qt/lib/QtPrintSupport.framework/Versions/5/QtPrintSupport (0x126652478). One of the two will be used. Which one is undefined.\n",
      "objc[1804]: Class QCocoaPrintPanelDelegate is implemented in both /Library/Frameworks/Python.framework/Versions/3.7/lib/python3.7/site-packages/cv2/.dylibs/QtGui (0x124921638) and /Library/Frameworks/Python.framework/Versions/3.7/lib/python3.7/site-packages/PyQt5/Qt/lib/QtPrintSupport.framework/Versions/5/QtPrintSupport (0x1266524f0). One of the two will be used. Which one is undefined.\n",
      "objc[1804]: Class QCocoaApplicationDelegate is implemented in both /Library/Frameworks/Python.framework/Versions/3.7/lib/python3.7/site-packages/cv2/.dylibs/QtGui (0x124921340) and /Library/Frameworks/Python.framework/Versions/3.7/lib/python3.7/site-packages/PyQt5/Qt/plugins/platforms/libqcocoa.dylib (0x12df842a0). One of the two will be used. Which one is undefined.\n",
      "objc[1804]: Class QNSApplication is implemented in both /Library/Frameworks/Python.framework/Versions/3.7/lib/python3.7/site-packages/cv2/.dylibs/QtGui (0x1249212f0) and /Library/Frameworks/Python.framework/Versions/3.7/lib/python3.7/site-packages/PyQt5/Qt/plugins/platforms/libqcocoa.dylib (0x12df842f0). One of the two will be used. Which one is undefined.\n",
      "objc[1804]: Class QCocoaMenuLoader is implemented in both /Library/Frameworks/Python.framework/Versions/3.7/lib/python3.7/site-packages/cv2/.dylibs/QtGui (0x1249212a0) and /Library/Frameworks/Python.framework/Versions/3.7/lib/python3.7/site-packages/PyQt5/Qt/plugins/platforms/libqcocoa.dylib (0x12df84430). One of the two will be used. Which one is undefined.\n",
      "objc[1804]: Class QNSImageView is implemented in both /Library/Frameworks/Python.framework/Versions/3.7/lib/python3.7/site-packages/cv2/.dylibs/QtGui (0x124921660) and /Library/Frameworks/Python.framework/Versions/3.7/lib/python3.7/site-packages/PyQt5/Qt/plugins/platforms/libqcocoa.dylib (0x12df844d0). One of the two will be used. Which one is undefined.\n",
      "objc[1804]: Class QNSStatusItem is implemented in both /Library/Frameworks/Python.framework/Versions/3.7/lib/python3.7/site-packages/cv2/.dylibs/QtGui (0x1249216b0) and /Library/Frameworks/Python.framework/Versions/3.7/lib/python3.7/site-packages/PyQt5/Qt/plugins/platforms/libqcocoa.dylib (0x12df84520). One of the two will be used. Which one is undefined.\n",
      "objc[1804]: Class QNSOpenSavePanelDelegate is implemented in both /Library/Frameworks/Python.framework/Versions/3.7/lib/python3.7/site-packages/cv2/.dylibs/QtGui (0x124921480) and /Library/Frameworks/Python.framework/Versions/3.7/lib/python3.7/site-packages/PyQt5/Qt/plugins/platforms/libqcocoa.dylib (0x12df84610). One of the two will be used. Which one is undefined.\n"
     ]
    },
    {
     "name": "stdout",
     "output_type": "stream",
     "text": [
      "Extracting EDF parameters from /Users/lorafanda/Google Drive/My Drive/EEG_DATA_PIERRE/PAT_3390/PAT_3390_EEG_860617_languageMapping.edf...\n",
      "EDF file detected\n",
      "Setting channel info structure...\n",
      "Creating raw.info structure...\n"
     ]
    }
   ],
   "source": [
    "import os\n",
    "import numpy as np\n",
    "import mne\n",
    "from mne.utils import _TempDir\n",
    "import matplotlib.pyplot as plt\n",
    "import pyqtgraph as pg\n",
    "import pyqtgraph as plotWidget\n",
    "from get_trigger_indexes_photodiode import normalized\n",
    "from pd_parser.parse_pd import _read_raw, _to_tsv\n",
    "import time\n",
    "from get_trigger_indexes_photodiode import get_trigger_indexes_photodiode\n",
    "from datetime import datetime\n",
    "# import read_trc\n",
    "import struct\n",
    "%matplotlib qt\n",
    "\n",
    "\n",
    "# def read_f(f, fmt):\n",
    "#     return struct.unpack(fmt, f.read(struct.calcsize(fmt)))\n",
    "\n",
    "### DEFINE PATHS\n",
    "Exper = '_FLM_'\n",
    "PT_id = 'PAT_3390'\n",
    "data_path = '/Users/lorafanda/Google Drive/My Drive/EEG_DATA_PIERRE'\n",
    "# DEFINE NAMES\n",
    "# PT_id = \n",
    "\n",
    "# print(PT_id)\n",
    "script_path = '/Volumes/GoogleDrive/My Drive/EEG_DATA_PIERRE/Scripts'\n",
    "filename_edf = 'PAT_3390_EEG_860617_languageMapping.edf'\n",
    "data_raw_file = os.path.join(data_path,PT_id, filename_edf)\n",
    "# data_raw_file = os.path.join(data_path, 'EEG_1051662_test_AudCatLoc_latency_w_microphone.edf')\n",
    "# data_raw_file_trc = os.path.join(data_path, PT_id,'PAT_3066_EEG_708977_Anon_CategoryLocalizer.TRC')\n",
    "### DEFINE PATHS ENDS\n",
    "\n",
    "fig = plt.figure(figsize=(100, 2))\n",
    "# DEFINE NAMES ENDS\n",
    "\n",
    "# LOAD TRIGGER and MIC DATA \n",
    "# data_raw_file = os.path.join(data_path, 'PAT_3066_EEG_708977_Anon_CategoryLocalizer.edf') #PAT_3066_EEG_695997_Anon_FLM.edf\n",
    "# trigger_ch = mne.io.read_raw_edf(data_raw_file,exclude=['ECG+','ECG-','MKR4+','Xe2', 'Xe3', 'Xe4', 'Xe5', 'Xe6'])\n",
    "trigger_ch = mne.io.read_raw_edf(data_raw_file,exclude=['ECG+','ECG-'])\n",
    "# sf, data, chan, n, start_time = read_trc.read_trc(data_raw_file_trc);\n",
    "# trigger_ch = struct.unpack('Xe1', data.read(struct.calcsize('Xe1')))"
   ]
  },
  {
   "cell_type": "markdown",
   "metadata": {},
   "source": [
    "### Extract the PD Trigger"
   ]
  },
  {
   "cell_type": "code",
   "execution_count": 3,
   "metadata": {},
   "outputs": [
    {
     "name": "stdout",
     "output_type": "stream",
     "text": [
      "\n",
      "\n",
      "*****----------------   _FLM_   ----------------*****\n",
      "\n",
      "*   Data location.... : /var/folders/85/ct7qgj4500s62pw9zxkv_xc40000gn/T/tmp_mne_tempdir_xm3s9qwk\n",
      "\n",
      "\n",
      "Extracting EDF parameters from /Users/lorafanda/Google Drive/My Drive/EEG_DATA_PIERRE/PAT_3390/PAT_3390_EEG_860617_languageMapping.edf...\n",
      "EDF file detected\n",
      "Setting channel info structure...\n",
      "Creating raw.info structure...\n",
      "channels:  ['FOG1', 'FOG2', 'FOG3', 'FOG4', 'FOG5', 'FOG6', 'FOG7', 'FOG8', 'FOG9', 'FOG10', 'FOG11', 'FOG12', 'IAG1', 'IAG2', 'IAG3', 'IAG4', 'IAG5', 'IAG6', 'IAG7', 'IAG8', 'IAG9', 'IAG10', 'IAG11', 'IAG12', 'IAG13', 'IAG14', 'IAG15', 'IAG16', 'IAG17', 'IAG18', 'CAG1', 'CAG2', 'CAG3', 'CAG4', 'CAG5', 'CAG6', 'CAG7', 'CAG8', 'CAG9', 'CAG10', 'CAG11', 'CAG12', 'CPG1', 'CPG2', 'CPG3', 'CPG4', 'CPG5', 'CPG6', 'CPG7', 'CPG8', 'CPG9', 'CPG10', 'CPG11', 'CPG12', 'CPG13', 'CPG14', 'CPG15', 'EX1', 'EX2', 'EX3', 'EX4', 'EX5', 'EX6', 'EX7', 'MKR1+', 'TPG1', 'TPG2', 'TPG3', 'TPG4', 'TPG5', 'AG1', 'AG2', 'AG3', 'AG4', 'AG5', 'AG6', 'AG7', 'AG8', 'AG9', 'AG10', 'AG11', 'AG12', 'HAG1', 'HAG2', 'HAG3', 'HAG4', 'HAG5', 'HAG6', 'HAG7', 'HAG8', 'HAG9', 'HAG10', 'HAG11', 'HAG12', 'HPG1', 'HPG2', 'HPG3', 'HPG4', 'HPG5', 'HPG6', 'HPG7', 'HPG8', 'HPG9', 'HPG10', 'PHG1', 'PHG2', 'PHG3', 'PHG4', 'PHG5', 'PHG6', 'PHG7', 'PHG8', 'PHG9', 'PHG10', 'PHG11', 'PHG12', 'TOL1', 'TOL2', 'TOL3', 'TOL4', 'TOL5', 'TOL6', 'TOL7', 'TOL8', 'TOL9', 'TOL10', 'ECG+', 'ECG-', 'PHOTO', 'MKR2+']\n",
      "440000 (440000,)\n",
      "*   length of onset indexes:  52\n",
      "*   length of offset indexes:  51\n",
      "*   length of Time & Trigger:  440000   440000\n"
     ]
    }
   ],
   "source": [
    "# GET PHOTODIODE TRIGGERS\n",
    "Exper = '_FLM_'\n",
    "print('\\n\\n*****----------------  ',Exper,'  ----------------*****\\n' )\n",
    "\n",
    "trig_chan_name = 'PHOTO'\n",
    "t_onset_s= 400000\n",
    "t_offset_s= 840000\n",
    "index_onset,index_offset , trigger_ch_new,_ = get_trigger_indexes_photodiode(data_raw_file = data_raw_file, data_path=data_path,t_start= t_onset_s, t_end=t_offset_s,threshold_val=0.7, trigger_channel=trig_chan_name,do_plot=True,flip_trigs=True)\n",
    "\n"
   ]
  },
  {
   "attachments": {},
   "cell_type": "markdown",
   "metadata": {},
   "source": [
    "### SAVE PD trigger DATA (Optional, just in case):"
   ]
  },
  {
   "cell_type": "code",
   "execution_count": 4,
   "metadata": {},
   "outputs": [
    {
     "name": "stdout",
     "output_type": "stream",
     "text": [
      "['Data saved as: PAT_3390_FLM__triggerPD_2023-03-01.txt']\n"
     ]
    }
   ],
   "source": [
    "date_txt=str(datetime.date(datetime.now()))\n",
    "name_txt = PT_id +Exper+'_triggerPD_' + date_txt+'.txt'\n",
    "with open(os.path.join(data_path,name_txt ), \"w\") as textfile:\n",
    "    textfile.write('onsets;offsets\\n')\n",
    "    XY = [i for i in zip(index_onset, index_offset)]\n",
    "    for x, y in XY:\n",
    "        textfile.write(str(x)+';'+str(y))\n",
    "        textfile.write('\\n')\n",
    "    textfile.close()\n",
    "\n",
    "print(['Data saved as: ' + name_txt])\n",
    "#     # 28840\n"
   ]
  },
  {
   "attachments": {},
   "cell_type": "markdown",
   "metadata": {},
   "source": [
    "## Preprocessing\n",
    "\n",
    "#### TIME FREQ ANALYSIS WITH MNE (Fieldtrip inspired)\n",
    "\n",
    "% read iEEG file header and trigger information\n",
    "\n",
    "- Define triggers/event onsets\n",
    "- Define parameters: Baseline correction, notch filtering, demeaning, good bad channels, referencing to all, etc\n",
    "- time frequency analysis: Follow fieldtrip equivalent\n",
    "```\n",
    "\n",
    "    cfg_timefreq.channel=data.label{chan};\n",
    "    cfg_timefreq.output='pow';\n",
    "    cfg_timefreq.method='mtmconvol';\n",
    "    cfg_timefreq.taper='hanning';\n",
    "    cfg_timefreq.foi=2:2:200;\n",
    "    cfg_timefreq.t_ftimwin=ones(length(cfg_timefreq.foi),1).*0.5;\n",
    "    cfg_timefreq.toi=-0.5:0.01:1;\n",
    "    cfg_timefreq.keeptrials='yes';\n",
    "    freq=ft_freqanalysis(cfg_timefreq,data);\n",
    "```\n",
    "\n",
    "\n"
   ]
  },
  {
   "cell_type": "code",
   "execution_count": 6,
   "metadata": {},
   "outputs": [
    {
     "ename": "NameError",
     "evalue": "name 'pwd' is not defined",
     "output_type": "error",
     "traceback": [
      "\u001b[0;31m---------------------------------------------------------------------------\u001b[0m",
      "\u001b[0;31mNameError\u001b[0m                                 Traceback (most recent call last)",
      "\u001b[0;32m/var/folders/85/ct7qgj4500s62pw9zxkv_xc40000gn/T/ipykernel_1299/1582346120.py\u001b[0m in \u001b[0;36m<module>\u001b[0;34m\u001b[0m\n\u001b[1;32m      1\u001b[0m \u001b[0mdate_txt\u001b[0m\u001b[0;34m=\u001b[0m\u001b[0mstr\u001b[0m\u001b[0;34m(\u001b[0m\u001b[0mdatetime\u001b[0m\u001b[0;34m.\u001b[0m\u001b[0mdate\u001b[0m\u001b[0;34m(\u001b[0m\u001b[0mdatetime\u001b[0m\u001b[0;34m.\u001b[0m\u001b[0mnow\u001b[0m\u001b[0;34m(\u001b[0m\u001b[0;34m)\u001b[0m\u001b[0;34m)\u001b[0m\u001b[0;34m)\u001b[0m\u001b[0;34m\u001b[0m\u001b[0;34m\u001b[0m\u001b[0m\n\u001b[1;32m      2\u001b[0m \u001b[0mname_txt\u001b[0m \u001b[0;34m=\u001b[0m \u001b[0mPT_id\u001b[0m \u001b[0;34m+\u001b[0m\u001b[0mExper\u001b[0m\u001b[0;34m+\u001b[0m\u001b[0;34m'_triggerPD_'\u001b[0m \u001b[0;34m+\u001b[0m \u001b[0mdate_txt\u001b[0m\u001b[0;34m+\u001b[0m\u001b[0;34m'.txt'\u001b[0m\u001b[0;34m\u001b[0m\u001b[0;34m\u001b[0m\u001b[0m\n\u001b[0;32m----> 3\u001b[0;31m \u001b[0;32mwith\u001b[0m \u001b[0mopen\u001b[0m\u001b[0;34m(\u001b[0m\u001b[0mos\u001b[0m\u001b[0;34m.\u001b[0m\u001b[0mpath\u001b[0m\u001b[0;34m.\u001b[0m\u001b[0mjoin\u001b[0m\u001b[0;34m(\u001b[0m\u001b[0mpwd\u001b[0m\u001b[0;34m,\u001b[0m\u001b[0mname_txt\u001b[0m \u001b[0;34m)\u001b[0m\u001b[0;34m,\u001b[0m \u001b[0;34m\"w\"\u001b[0m\u001b[0;34m)\u001b[0m \u001b[0;32mas\u001b[0m \u001b[0mtextfile\u001b[0m\u001b[0;34m:\u001b[0m\u001b[0;34m\u001b[0m\u001b[0;34m\u001b[0m\u001b[0m\n\u001b[0m\u001b[1;32m      4\u001b[0m     \u001b[0mtextfile\u001b[0m\u001b[0;34m.\u001b[0m\u001b[0mwrite\u001b[0m\u001b[0;34m(\u001b[0m\u001b[0;34m'onsets;offsets\\n'\u001b[0m\u001b[0;34m)\u001b[0m\u001b[0;34m\u001b[0m\u001b[0;34m\u001b[0m\u001b[0m\n\u001b[1;32m      5\u001b[0m     \u001b[0mXY\u001b[0m \u001b[0;34m=\u001b[0m \u001b[0;34m[\u001b[0m\u001b[0mi\u001b[0m \u001b[0;32mfor\u001b[0m \u001b[0mi\u001b[0m \u001b[0;32min\u001b[0m \u001b[0mzip\u001b[0m\u001b[0;34m(\u001b[0m\u001b[0mindex_onset\u001b[0m\u001b[0;34m,\u001b[0m \u001b[0mindex_offset\u001b[0m\u001b[0;34m)\u001b[0m\u001b[0;34m]\u001b[0m\u001b[0;34m\u001b[0m\u001b[0;34m\u001b[0m\u001b[0m\n",
      "\u001b[0;31mNameError\u001b[0m: name 'pwd' is not defined"
     ]
    }
   ],
   "source": [
    "date_txt=str(datetime.date(datetime.now()))\n",
    "name_txt = PT_id +Exper+'_triggerPD_' + date_txt+'.txt'\n",
    "with open(os.path.join(pwd,name_txt ), \"w\") as textfile:\n",
    "    textfile.write('onsets;offsets\\n')\n",
    "    XY = [i for i in zip(index_onset, index_offset)]\n",
    "    for x, y in XY:\n",
    "        textfile.write(str(x)+';'+str(y))\n",
    "        textfile.write('\\n')\n",
    "    textfile.close()\n",
    "\n",
    "print(['Data saved as: ' + name_txt])\n",
    "#     # 28840"
   ]
  },
  {
   "cell_type": "code",
   "execution_count": 7,
   "metadata": {},
   "outputs": [
    {
     "ename": "NameError",
     "evalue": "name 'pwd' is not defined",
     "output_type": "error",
     "traceback": [
      "\u001b[0;31m---------------------------------------------------------------------------\u001b[0m",
      "\u001b[0;31mNameError\u001b[0m                                 Traceback (most recent call last)",
      "\u001b[0;32m/var/folders/85/ct7qgj4500s62pw9zxkv_xc40000gn/T/ipykernel_1299/481840029.py\u001b[0m in \u001b[0;36m<module>\u001b[0;34m\u001b[0m\n\u001b[0;32m----> 1\u001b[0;31m \u001b[0ma\u001b[0m \u001b[0;34m=\u001b[0m \u001b[0mpwd\u001b[0m\u001b[0;34m\u001b[0m\u001b[0;34m\u001b[0m\u001b[0m\n\u001b[0m",
      "\u001b[0;31mNameError\u001b[0m: name 'pwd' is not defined"
     ]
    }
   ],
   "source": [
    "a = pwd"
   ]
  },
  {
   "cell_type": "code",
   "execution_count": 13,
   "metadata": {},
   "outputs": [],
   "source": [
    "# events_time = seg_micromed.eventarrays[0].times.magnitude * sfreq\n",
    "# events_time = seg_micromed.events\n",
    "\n",
    "info = mne.create_info(ch_names, sfreq, ch_types='eeg')\n",
    "n_events = len(index_onset)\n",
    "events = np.empty([n_events, 3])\n",
    "events[:, 0] = index_onset\n",
    "events[:, 2] = [1]*n_events\n",
    "data = seg_micromed.analogsignals"
   ]
  },
  {
   "cell_type": "code",
   "execution_count": 23,
   "metadata": {},
   "outputs": [
    {
     "data": {
      "text/plain": [
       "(AnalogSignal with 212 channels of length 3542528; units uV; datatype float32 \n",
       " name: 'Signals'\n",
       " annotations: {'stream_id': '0'}\n",
       " sampling rate: 2048.0 Hz\n",
       " time: 0.0 s to 1729.75 s,\n",
       " Epoch name: 'Event A' annotations: {'id': ''},\n",
       " Epoch name: 'Event B' annotations: {'id': ''},\n",
       " Event name: 'Trigger' annotations: {'id': ''},\n",
       " Event name: 'Note' annotations: {'id': ''})"
      ]
     },
     "execution_count": 23,
     "metadata": {},
     "output_type": "execute_result"
    }
   ],
   "source": [
    "seg_micromed.spiketrains\n",
    "seg_micromed."
   ]
  },
  {
   "cell_type": "code",
   "execution_count": 38,
   "metadata": {},
   "outputs": [
    {
     "ename": "ValueError",
     "evalue": "len(data) (3542529) does not match len(info[\"ch_names\"]) (1)",
     "output_type": "error",
     "traceback": [
      "\u001b[0;31m---------------------------------------------------------------------------\u001b[0m",
      "\u001b[0;31mValueError\u001b[0m                                Traceback (most recent call last)",
      "\u001b[0;32m/var/folders/85/ct7qgj4500s62pw9zxkv_xc40000gn/T/ipykernel_80513/2136674938.py\u001b[0m in \u001b[0;36m<module>\u001b[0;34m\u001b[0m\n\u001b[1;32m      8\u001b[0m \u001b[0;31m# ch_types = ['eog', 'eog'] + ['eeg' for _ in ch_names[2:-1]] + ['stim']\u001b[0m\u001b[0;34m\u001b[0m\u001b[0;34m\u001b[0m\u001b[0;34m\u001b[0m\u001b[0m\n\u001b[1;32m      9\u001b[0m \u001b[0;34m\u001b[0m\u001b[0m\n\u001b[0;32m---> 10\u001b[0;31m \u001b[0mraw\u001b[0m \u001b[0;34m=\u001b[0m \u001b[0mmne\u001b[0m\u001b[0;34m.\u001b[0m\u001b[0mio\u001b[0m\u001b[0;34m.\u001b[0m\u001b[0mRawArray\u001b[0m\u001b[0;34m(\u001b[0m\u001b[0mdata\u001b[0m\u001b[0;34m,\u001b[0m \u001b[0minfo\u001b[0m\u001b[0;34m)\u001b[0m\u001b[0;34m\u001b[0m\u001b[0;34m\u001b[0m\u001b[0m\n\u001b[0m\u001b[1;32m     11\u001b[0m \u001b[0mraw\u001b[0m\u001b[0;34m.\u001b[0m\u001b[0madd_events\u001b[0m\u001b[0;34m(\u001b[0m\u001b[0mindex_onset\u001b[0m\u001b[0;34m)\u001b[0m\u001b[0;34m\u001b[0m\u001b[0;34m\u001b[0m\u001b[0m\n\u001b[1;32m     12\u001b[0m \u001b[0;34m\u001b[0m\u001b[0m\n",
      "\u001b[0;32m</Library/Frameworks/Python.framework/Versions/3.7/lib/python3.7/site-packages/decorator.py:decorator-gen-341>\u001b[0m in \u001b[0;36m__init__\u001b[0;34m(self, data, info, first_samp, copy, verbose)\u001b[0m\n",
      "\u001b[0;32m/Library/Frameworks/Python.framework/Versions/3.7/lib/python3.7/site-packages/mne/io/array/array.py\u001b[0m in \u001b[0;36m__init__\u001b[0;34m(self, data, info, first_samp, copy, verbose)\u001b[0m\n\u001b[1;32m     64\u001b[0m             raise ValueError('len(data) (%s) does not match '\n\u001b[1;32m     65\u001b[0m                              \u001b[0;34m'len(info[\"ch_names\"]) (%s)'\u001b[0m\u001b[0;34m\u001b[0m\u001b[0;34m\u001b[0m\u001b[0m\n\u001b[0;32m---> 66\u001b[0;31m                              % (len(data), len(info['ch_names'])))\n\u001b[0m\u001b[1;32m     67\u001b[0m         \u001b[0;32massert\u001b[0m \u001b[0mlen\u001b[0m\u001b[0;34m(\u001b[0m\u001b[0minfo\u001b[0m\u001b[0;34m[\u001b[0m\u001b[0;34m'ch_names'\u001b[0m\u001b[0;34m]\u001b[0m\u001b[0;34m)\u001b[0m \u001b[0;34m==\u001b[0m \u001b[0minfo\u001b[0m\u001b[0;34m[\u001b[0m\u001b[0;34m'nchan'\u001b[0m\u001b[0;34m]\u001b[0m\u001b[0;34m\u001b[0m\u001b[0;34m\u001b[0m\u001b[0m\n\u001b[1;32m     68\u001b[0m         \u001b[0;32mif\u001b[0m \u001b[0mcopy\u001b[0m \u001b[0;32min\u001b[0m \u001b[0;34m(\u001b[0m\u001b[0;34m'auto'\u001b[0m\u001b[0;34m,\u001b[0m \u001b[0;34m'info'\u001b[0m\u001b[0;34m,\u001b[0m \u001b[0;34m'both'\u001b[0m\u001b[0;34m)\u001b[0m\u001b[0;34m:\u001b[0m\u001b[0;34m\u001b[0m\u001b[0;34m\u001b[0m\u001b[0m\n",
      "\u001b[0;31mValueError\u001b[0m: len(data) (3542529) does not match len(info[\"ch_names\"]) (1)"
     ]
    }
   ],
   "source": [
    "# To get sample number:\n",
    "\n",
    "\n",
    "raw = mne.io.RawArray(data, info)\n",
    "raw.add_events(index_onset)\n",
    "\n",
    "# del seg_micromed\n",
    "\n",
    "# ch_types = ['eog', 'eog'] + ['eeg' for _ in ch_names[2:-1]] + ['stim']\n",
    "\n",
    "raw = mne.io.RawArray(data, info)\n",
    "raw.add_events(index_onset)\n",
    "\n",
    "#### STOP HERE \n",
    "#raw = raw_from_neo(fname)\n",
    "fig = raw.plot()\n",
    "\n",
    "events = mne.find_events(raw)\n",
    "mne.viz.plot_events(events, raw.info['sfreq'])\n",
    "\n",
    "event_id = 1\n",
    "epochs = mne.Epochs(raw, events, event_id=event_id, tmin=-0.2, tmax=0.4)\n",
    "evoked = epochs.average()"
   ]
  },
  {
   "cell_type": "markdown",
   "metadata": {},
   "source": [
    "### Save The Data"
   ]
  },
  {
   "cell_type": "code",
   "execution_count": 6,
   "metadata": {},
   "outputs": [],
   "source": []
  },
  {
   "cell_type": "markdown",
   "metadata": {},
   "source": [
    "### FINISHED HERE: \n",
    "##### Everything below is draft"
   ]
  },
  {
   "cell_type": "code",
   "execution_count": 13,
   "metadata": {},
   "outputs": [],
   "source": []
  },
  {
   "cell_type": "code",
   "execution_count": null,
   "metadata": {},
   "outputs": [],
   "source": []
  }
 ],
 "metadata": {
  "interpreter": {
   "hash": "aee8b7b246df8f9039afb4144a1f6fd8d2ca17a180786b69acc140d282b71a49"
  },
  "kernelspec": {
   "display_name": "Python 3.7.4 64-bit",
   "language": "python",
   "name": "python3"
  },
  "language_info": {
   "codemirror_mode": {
    "name": "ipython",
    "version": 3
   },
   "file_extension": ".py",
   "mimetype": "text/x-python",
   "name": "python",
   "nbconvert_exporter": "python",
   "pygments_lexer": "ipython3",
   "version": "3.7.4"
  },
  "orig_nbformat": 4
 },
 "nbformat": 4,
 "nbformat_minor": 2
}
