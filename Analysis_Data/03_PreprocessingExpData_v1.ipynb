{
 "cells": [
  {
   "cell_type": "markdown",
   "metadata": {},
   "source": [
    "# 03 Preprocessing Steps for exp data\n",
    "\n",
    "### 3.0 upload things\n",
    "### 3.1 Notch Filtering:\n",
    "50,100,150 Hz\n",
    "\n",
    "### HP and LP filtering:\n",
    "channel by channel, by the frequency bands 75 to 175 by 10Hz increments \n",
    "\n",
    "### FLM\n",
    "group by stimuli type, and stimuli vs response\n",
    "\n",
    "### Cat Loc\n",
    "group by category\n",
    "\n",
    "\n",
    "-------"
   ]
  },
  {
   "cell_type": "markdown",
   "metadata": {},
   "source": [
    "#### IMPORT AND LOAD DATA"
   ]
  },
  {
   "cell_type": "code",
   "execution_count": null,
   "metadata": {},
   "outputs": [],
   "source": [
    "# IMPORTS: \n",
    "import os\n",
    "import numpy as np\n",
    "import mne\n",
    "import scipy\n",
    "from pd_parser.parse_pd import _read_raw, _to_tsv\n",
    "import pyqtgraph as pg\n",
    "import pyqtgraph as plotWidget\n",
    "import pandas as pd\n",
    "%matplotlib inline\n",
    "# %matplotlib qt\n",
    "\n",
    "\n",
    "data_path = '/Volumes/GoogleDrive/My Drive/EEG_DATA_PIERRE/PAT_3066'\n",
    "# data_path = ''\n",
    "data_path_file = 'PAT_3066_EEG_708977_Anon_CategoryLocalizer.edf'\n",
    "# data_path_file = ''\n",
    "script_path = '/Volumes/GoogleDrive/My Drive/EEG_DATA_PIERRE/Scripts'\n",
    "# script_path = ''\n",
    "trigger_file='PAT_3066CatLoc_triggerPD_2022-07-06.txt'\n",
    "behav_file = '3066_CategoryLocalizer_9-3-2022.txt'\n",
    "# trigger_channel=''\n"
   ]
  },
  {
   "cell_type": "markdown",
   "metadata": {},
   "source": [
    "#### TRIGGER INFORMATION\n"
   ]
  },
  {
   "cell_type": "code",
   "execution_count": null,
   "metadata": {},
   "outputs": [],
   "source": [
    "trig_raw_file = os.path.join(data_path, trigger_file)\n",
    "\n",
    "with open(trig_raw_file,'r') as trig_file:\n",
    "    trigs= [i.split('\\n')[0].split(';') for i in trig_file.readlines()]\n",
    "trigs.pop(0)\n",
    "trigs = np.array(trigs,dtype=int)\n",
    "\n"
   ]
  },
  {
   "cell_type": "markdown",
   "metadata": {},
   "source": [
    "#### BEHAVIORAL INFORMATION\n"
   ]
  },
  {
   "cell_type": "code",
   "execution_count": null,
   "metadata": {},
   "outputs": [],
   "source": [
    "beha_raw_file = os.path.join(data_path, behav_file)\n",
    "with open(beha_raw_file,'r') as beha_file:\n",
    "    behav= [i.split('\\n')[0] for i in beha_file.readlines()]\n",
    "    print('*     Header Values are: ',behav[4])\n",
    "    headers=[behav[4]].pop(0)\n",
    "    [behav.pop(i) for i in [0,0,0,0,0]]\n",
    "    \n",
    "# BEHAVIORAL INFORMATION\n",
    "df_beh = pd.DataFrame([i.split(',') for i in behav]) # 20,34,132,2,40, etc\n",
    "stimNum = [i.split(',')[1] for i in behav] # 20,34,132,2,40, etc\n",
    "stimName = [i.split(',')[2] for i in behav] # instrument, house, scrambled, etc.\n",
    "time_repeat = [i.split(',')[3] for i in behav] # '0', '1646835641.8321767', '0', '0'\n",
    "valid_trial = [i.split(',')[4] for i in behav] # 1 valid, 0 invalid -->'1', '1', '0', '1', '1', '1'\n",
    "time_response = [i.split(',')[5] for i in behav] # seconds of the day '0', '0', '0', '1646835634.5921137', '0',\n",
    "\n",
    "print(np.shape(df_beh))\n",
    "# print(stimNum,stimName,time_repeat,valid_trial,time_response )\n",
    "# behav = np.array(behav,dtype=int)\n",
    "df_beh.head()\n",
    "stimName.pop(-1)"
   ]
  },
  {
   "cell_type": "markdown",
   "metadata": {},
   "source": [
    "#### Notch"
   ]
  },
  {
   "cell_type": "code",
   "execution_count": null,
   "metadata": {},
   "outputs": [],
   "source": [
    "# from scipy import fftpack\n",
    "%matplotlib qt\n",
    "\n",
    "data_raw_file = os.path.join(data_path, data_path_file)\n",
    "raw = mne.io.read_raw_edf(data_raw_file)\n",
    "raw.load_data()\n",
    "# raw.set_eeg_reference('average')\n",
    "\n",
    "picks = mne.pick_channels(raw.info.ch_names,include=np.array(raw.info.ch_names)[0:-11])\n",
    "\n",
    "## TODO: ADD COMMON AVERAGE REFERENCING BEFORE FILTERING \n",
    "# raw.plot(order=picks,n_channels=100, event_color='cyan', scalings=900, duration=100)\n",
    "# raw.plot_psd(area_mode='range', tmax=10.0, picks=picks, average=True)\n",
    "\n",
    "# Notch \n",
    "print('*   NOTCH FILTERED PSD')\n",
    "raw.notch_filter(np.arange(50, 200, 50), picks=picks, filter_length='10s',phase='zero')\n",
    "# raw.plot_psd(area_mode='range', tmax=10.0, picks=picks, average=True)\n",
    "# Bandpass\n",
    "print('*   BANDPASS FILTERED PSD')\n",
    "# raw.filter(l_freq=0.5, h_freq=175,picks=picks,phase='zero')\n",
    "raw.filter(l_freq=75, h_freq=175,picks=picks,phase='zero', filter_length=500)\n",
    "# raw.plot_psd(area_mode='range', tmax=10.0, picks=picks, average=True)\n",
    "print('*   PLOT EEG')\n",
    "# raw.load_data()\n",
    "raw.plot(order=picks,n_channels=50, event_color='cyan', scalings=500, duration=100)\n",
    "\n",
    "\n",
    "# raw,times= raw.get_data(picks=picks,verbose=True,start=trigs[0][0],stop=trigs[-1][1])\n",
    "# trigs =trigs - trigs[0][0] \n",
    "\n",
    "raw.info\n"
   ]
  },
  {
   "cell_type": "code",
   "execution_count": null,
   "metadata": {},
   "outputs": [],
   "source": [
    "channels = raw.ch_names[0:201]\n",
    "print(len(channels))"
   ]
  },
  {
   "cell_type": "code",
   "execution_count": 12,
   "metadata": {},
   "outputs": [
    {
     "ename": "KeyboardInterrupt",
     "evalue": "",
     "output_type": "error",
     "traceback": [
      "\u001b[0;31m---------------------------------------------------------------------------\u001b[0m",
      "\u001b[0;31mKeyboardInterrupt\u001b[0m                         Traceback (most recent call last)",
      "\u001b[0;32m/var/folders/85/ct7qgj4500s62pw9zxkv_xc40000gn/T/ipykernel_7568/685419691.py\u001b[0m in \u001b[0;36m<module>\u001b[0;34m\u001b[0m\n\u001b[1;32m      4\u001b[0m     \u001b[0;32melse\u001b[0m\u001b[0;34m:\u001b[0m\u001b[0;34m\u001b[0m\u001b[0;34m\u001b[0m\u001b[0m\n\u001b[1;32m      5\u001b[0m         \u001b[0mtemp\u001b[0m \u001b[0;34m=\u001b[0m \u001b[0mpd\u001b[0m\u001b[0;34m.\u001b[0m\u001b[0mDataFrame\u001b[0m\u001b[0;34m(\u001b[0m\u001b[0mnp\u001b[0m\u001b[0;34m.\u001b[0m\u001b[0marray\u001b[0m\u001b[0;34m(\u001b[0m\u001b[0mraw\u001b[0m\u001b[0;34m.\u001b[0m\u001b[0mget_data\u001b[0m\u001b[0;34m(\u001b[0m\u001b[0mpicks\u001b[0m\u001b[0;34m=\u001b[0m\u001b[0mpicks\u001b[0m\u001b[0;34m,\u001b[0m\u001b[0mverbose\u001b[0m\u001b[0;34m=\u001b[0m\u001b[0;32mTrue\u001b[0m\u001b[0;34m,\u001b[0m\u001b[0mstart\u001b[0m\u001b[0;34m=\u001b[0m\u001b[0mtrigs\u001b[0m\u001b[0;34m[\u001b[0m\u001b[0mtrial\u001b[0m\u001b[0;34m]\u001b[0m\u001b[0;34m[\u001b[0m\u001b[0;36m1\u001b[0m\u001b[0;34m]\u001b[0m\u001b[0;34m-\u001b[0m\u001b[0;36m500\u001b[0m\u001b[0;34m,\u001b[0m\u001b[0mstop\u001b[0m\u001b[0;34m=\u001b[0m\u001b[0mtrigs\u001b[0m\u001b[0;34m[\u001b[0m\u001b[0mtrial\u001b[0m\u001b[0;34m]\u001b[0m\u001b[0;34m[\u001b[0m\u001b[0;36m1\u001b[0m\u001b[0;34m]\u001b[0m\u001b[0;34m+\u001b[0m\u001b[0;36m1500\u001b[0m\u001b[0;34m)\u001b[0m\u001b[0;34m)\u001b[0m\u001b[0;34m.\u001b[0m\u001b[0mT\u001b[0m\u001b[0;34m,\u001b[0m\u001b[0mcolumns\u001b[0m\u001b[0;34m=\u001b[0m\u001b[0mchannels\u001b[0m\u001b[0;34m)\u001b[0m\u001b[0;34m\u001b[0m\u001b[0;34m\u001b[0m\u001b[0m\n\u001b[0;32m----> 6\u001b[0;31m         \u001b[0mdata\u001b[0m \u001b[0;34m=\u001b[0m \u001b[0mdata\u001b[0m\u001b[0;34m.\u001b[0m\u001b[0mappend\u001b[0m\u001b[0;34m(\u001b[0m\u001b[0mtemp\u001b[0m\u001b[0;34m,\u001b[0m\u001b[0mignore_index\u001b[0m\u001b[0;34m=\u001b[0m\u001b[0;32mTrue\u001b[0m\u001b[0;34m)\u001b[0m\u001b[0;34m\u001b[0m\u001b[0;34m\u001b[0m\u001b[0m\n\u001b[0m\u001b[1;32m      7\u001b[0m         \u001b[0;31m# print(np.shape(data.T))\u001b[0m\u001b[0;34m\u001b[0m\u001b[0;34m\u001b[0m\u001b[0;34m\u001b[0m\u001b[0m\n\u001b[1;32m      8\u001b[0m \u001b[0;34m\u001b[0m\u001b[0m\n",
      "\u001b[0;32m/Library/Frameworks/Python.framework/Versions/3.7/lib/python3.7/site-packages/pandas/core/frame.py\u001b[0m in \u001b[0;36mappend\u001b[0;34m(self, other, ignore_index, verify_integrity, sort)\u001b[0m\n\u001b[1;32m   7121\u001b[0m             \u001b[0mignore_index\u001b[0m\u001b[0;34m=\u001b[0m\u001b[0mignore_index\u001b[0m\u001b[0;34m,\u001b[0m\u001b[0;34m\u001b[0m\u001b[0;34m\u001b[0m\u001b[0m\n\u001b[1;32m   7122\u001b[0m             \u001b[0mverify_integrity\u001b[0m\u001b[0;34m=\u001b[0m\u001b[0mverify_integrity\u001b[0m\u001b[0;34m,\u001b[0m\u001b[0;34m\u001b[0m\u001b[0;34m\u001b[0m\u001b[0m\n\u001b[0;32m-> 7123\u001b[0;31m             \u001b[0msort\u001b[0m\u001b[0;34m=\u001b[0m\u001b[0msort\u001b[0m\u001b[0;34m,\u001b[0m\u001b[0;34m\u001b[0m\u001b[0;34m\u001b[0m\u001b[0m\n\u001b[0m\u001b[1;32m   7124\u001b[0m         )\n\u001b[1;32m   7125\u001b[0m \u001b[0;34m\u001b[0m\u001b[0m\n",
      "\u001b[0;32m/Library/Frameworks/Python.framework/Versions/3.7/lib/python3.7/site-packages/pandas/core/reshape/concat.py\u001b[0m in \u001b[0;36mconcat\u001b[0;34m(objs, axis, join, join_axes, ignore_index, keys, levels, names, verify_integrity, sort, copy)\u001b[0m\n\u001b[1;32m    256\u001b[0m     )\n\u001b[1;32m    257\u001b[0m \u001b[0;34m\u001b[0m\u001b[0m\n\u001b[0;32m--> 258\u001b[0;31m     \u001b[0;32mreturn\u001b[0m \u001b[0mop\u001b[0m\u001b[0;34m.\u001b[0m\u001b[0mget_result\u001b[0m\u001b[0;34m(\u001b[0m\u001b[0;34m)\u001b[0m\u001b[0;34m\u001b[0m\u001b[0;34m\u001b[0m\u001b[0m\n\u001b[0m\u001b[1;32m    259\u001b[0m \u001b[0;34m\u001b[0m\u001b[0m\n\u001b[1;32m    260\u001b[0m \u001b[0;34m\u001b[0m\u001b[0m\n",
      "\u001b[0;32m/Library/Frameworks/Python.framework/Versions/3.7/lib/python3.7/site-packages/pandas/core/reshape/concat.py\u001b[0m in \u001b[0;36mget_result\u001b[0;34m(self)\u001b[0m\n\u001b[1;32m    471\u001b[0m \u001b[0;34m\u001b[0m\u001b[0m\n\u001b[1;32m    472\u001b[0m             new_data = concatenate_block_managers(\n\u001b[0;32m--> 473\u001b[0;31m                 \u001b[0mmgrs_indexers\u001b[0m\u001b[0;34m,\u001b[0m \u001b[0mself\u001b[0m\u001b[0;34m.\u001b[0m\u001b[0mnew_axes\u001b[0m\u001b[0;34m,\u001b[0m \u001b[0mconcat_axis\u001b[0m\u001b[0;34m=\u001b[0m\u001b[0mself\u001b[0m\u001b[0;34m.\u001b[0m\u001b[0maxis\u001b[0m\u001b[0;34m,\u001b[0m \u001b[0mcopy\u001b[0m\u001b[0;34m=\u001b[0m\u001b[0mself\u001b[0m\u001b[0;34m.\u001b[0m\u001b[0mcopy\u001b[0m\u001b[0;34m\u001b[0m\u001b[0;34m\u001b[0m\u001b[0m\n\u001b[0m\u001b[1;32m    474\u001b[0m             )\n\u001b[1;32m    475\u001b[0m             \u001b[0;32mif\u001b[0m \u001b[0;32mnot\u001b[0m \u001b[0mself\u001b[0m\u001b[0;34m.\u001b[0m\u001b[0mcopy\u001b[0m\u001b[0;34m:\u001b[0m\u001b[0;34m\u001b[0m\u001b[0;34m\u001b[0m\u001b[0m\n",
      "\u001b[0;32m/Library/Frameworks/Python.framework/Versions/3.7/lib/python3.7/site-packages/pandas/core/internals/managers.py\u001b[0m in \u001b[0;36mconcatenate_block_managers\u001b[0;34m(mgrs_indexers, axes, concat_axis, copy)\u001b[0m\n\u001b[1;32m   2048\u001b[0m         \u001b[0;32melif\u001b[0m \u001b[0mis_uniform_join_units\u001b[0m\u001b[0;34m(\u001b[0m\u001b[0mjoin_units\u001b[0m\u001b[0;34m)\u001b[0m\u001b[0;34m:\u001b[0m\u001b[0;34m\u001b[0m\u001b[0;34m\u001b[0m\u001b[0m\n\u001b[1;32m   2049\u001b[0m             b = join_units[0].block.concat_same_type(\n\u001b[0;32m-> 2050\u001b[0;31m                 \u001b[0;34m[\u001b[0m\u001b[0mju\u001b[0m\u001b[0;34m.\u001b[0m\u001b[0mblock\u001b[0m \u001b[0;32mfor\u001b[0m \u001b[0mju\u001b[0m \u001b[0;32min\u001b[0m \u001b[0mjoin_units\u001b[0m\u001b[0;34m]\u001b[0m\u001b[0;34m,\u001b[0m \u001b[0mplacement\u001b[0m\u001b[0;34m=\u001b[0m\u001b[0mplacement\u001b[0m\u001b[0;34m\u001b[0m\u001b[0;34m\u001b[0m\u001b[0m\n\u001b[0m\u001b[1;32m   2051\u001b[0m             )\n\u001b[1;32m   2052\u001b[0m         \u001b[0;32melse\u001b[0m\u001b[0;34m:\u001b[0m\u001b[0;34m\u001b[0m\u001b[0;34m\u001b[0m\u001b[0m\n",
      "\u001b[0;32m/Library/Frameworks/Python.framework/Versions/3.7/lib/python3.7/site-packages/pandas/core/internals/blocks.py\u001b[0m in \u001b[0;36mconcat_same_type\u001b[0;34m(self, to_concat, placement)\u001b[0m\n\u001b[1;32m    361\u001b[0m         \"\"\"\n\u001b[1;32m    362\u001b[0m         values = self._concatenator(\n\u001b[0;32m--> 363\u001b[0;31m             \u001b[0;34m[\u001b[0m\u001b[0mblk\u001b[0m\u001b[0;34m.\u001b[0m\u001b[0mvalues\u001b[0m \u001b[0;32mfor\u001b[0m \u001b[0mblk\u001b[0m \u001b[0;32min\u001b[0m \u001b[0mto_concat\u001b[0m\u001b[0;34m]\u001b[0m\u001b[0;34m,\u001b[0m \u001b[0maxis\u001b[0m\u001b[0;34m=\u001b[0m\u001b[0mself\u001b[0m\u001b[0;34m.\u001b[0m\u001b[0mndim\u001b[0m \u001b[0;34m-\u001b[0m \u001b[0;36m1\u001b[0m\u001b[0;34m\u001b[0m\u001b[0;34m\u001b[0m\u001b[0m\n\u001b[0m\u001b[1;32m    364\u001b[0m         )\n\u001b[1;32m    365\u001b[0m         return self.make_block_same_class(\n",
      "\u001b[0;32m<__array_function__ internals>\u001b[0m in \u001b[0;36mconcatenate\u001b[0;34m(*args, **kwargs)\u001b[0m\n",
      "\u001b[0;31mKeyboardInterrupt\u001b[0m: "
     ]
    }
   ],
   "source": [
    "\n",
    "# for channel in\n",
    "for trial in range(0,len(trigs)):\n",
    "    if trial == 0: data = pd.DataFrame(np.array(raw.get_data(picks=picks,verbose=True,start=trigs[trial][1]-500,stop=trigs[trial][1]+1500)).T,columns=channels)\n",
    "    else: \n",
    "        temp = pd.DataFrame(np.array(raw.get_data(picks=picks,verbose=True,start=trigs[trial][1]-500,stop=trigs[trial][1]+1500)).T,columns=channels)\n",
    "        data = data.append(temp,ignore_index=True)\n",
    "        # print(np.shape(data.T))\n",
    "\n",
    "    # for ch in range(0,np.shape(data[0])[0])\n",
    "    # [plotWidget.plot(data[ch][i]) for i in range(0,len(data))]\n",
    "\n",
    "# # raw.plot(order=picks,n_channels=25, event_color='cyan', scalings=15, duration=50)\n",
    "# data = pd.DataFrame([raw.get_data(picks=picks,verbose=True,start=trigs[i][0],stop=trigs[i][1]) for i in range(0,len(trigs))],columns=stimName) #,columns=raw.ch_names\n",
    "# data_resp = pd.DataFrame([raw.get_data(picks=picks,verbose=True,start=trigs[i][1],stop=trigs[i][1]+1000) for i in range(0,len(trigs))],columns=stimName) #,columns=raw.ch_names\n",
    "# del raw\n",
    "# data.info # trigs =trigs - trigs[0][0] \n",
    "\n",
    "# plotWidget = pg.plot(title=\"Validation of Triggers PD: x is onset, o is offset\")\n",
    "# print(len(data))\n",
    "# print(np.shape(data[0]))\n",
    "# for ch in range(0,np.shape(data[0])[0])\n",
    "    # [plotWidget.plot(data[ch][i]) for i in range(0,len(data))]"
   ]
  },
  {
   "cell_type": "code",
   "execution_count": null,
   "metadata": {},
   "outputs": [],
   "source": [
    "# data.info\n",
    "# np.shape(data.FIG1)[0]/652\n"
   ]
  },
  {
   "cell_type": "code",
   "execution_count": null,
   "metadata": {},
   "outputs": [],
   "source": [
    "raw.plot(order=picks,n_channels=25, event_color='cyan', scalings=15, duration=50)\n",
    "data = [raw.get_data(picks=picks,verbose=True,start=trigs[i][1],stop=trigs[i][1]+1000) for i in range(0,len(trigs))]\n",
    "# trigs =trigs - trigs[0][0] \n",
    "\n",
    "for ind in range(0,5):\n",
    "    plotWidget = pg.plot(title=\"Validation of Triggers PD: x is onset, o is offset\")\n",
    "    print(np.shape(data[ind][0]))\n",
    "    [plotWidget.plot(data[ind][i]) for i in range(0,201)]"
   ]
  },
  {
   "cell_type": "markdown",
   "metadata": {},
   "source": [
    "#### EPOCHING"
   ]
  },
  {
   "cell_type": "code",
   "execution_count": null,
   "metadata": {},
   "outputs": [],
   "source": [
    "# plt.plot(raw.times(),raw.get_data())\n",
    "%matplotlib qt\n",
    "\n",
    "# picks = mne.pick_channels_regexp(trigger_ch.info.ch_names, regexp='Xe1')\n",
    "# fig = pg.figure(figsize=(100, 2))\n",
    "\n",
    "\n",
    "\n",
    "channels = raw.ch_names\n",
    "raw_values = raw.T\n",
    "time_s = np.linspace(0,len(raw),num=len(raw))\n",
    "print(np.shape(time_s),np.shape(raw))\n",
    "# plotWidget = pg.plot(title=\"Validation of Triggers PD: x is onset, o is offset\")\n",
    "# [plotWidget.plot(time_s,raw_values.T[i]) for i in range(0,202)]\n",
    "\n",
    "# rem_annot = mne.Annotations(onset=trigs/,\n",
    "#                             duration=[16, 11],\n",
    "#                             description=['REM'] * 2)\n",
    "# raw.set_annotations(rem_annot)\n",
    "# (rem_events,\n",
    "#  rem_event_dict) = mne.events_from_annotations(raw, chunk_duration=1.5)\n",
    "\n",
    " \n",
    "# channel_names = raw.ch_names\n",
    "# pg.show()\n",
    "#del raw\n",
    "\n",
    "\n",
    "# events = mne.find_events(trigs)\n",
    "# event_dict = {'auditory/left': 1, 'auditory/right': 2, 'visual/left': 3,\n",
    "#               'visual/right': 4, 'face': 5, 'button': 32}\n",
    "# epochs = mne.Epochs(raw, events, tmin=-0.2, tmax=0.5, event_id=event_dict,\n",
    "                    # preload=True)"
   ]
  },
  {
   "cell_type": "code",
   "execution_count": null,
   "metadata": {},
   "outputs": [],
   "source": [
    "# # Some information about the DATASET: \n",
    "# print(raw.info)\n",
    "# infodata = raw.info\n",
    "\n",
    "# ## FURTHER INFORMATION\n",
    "# # print(raw.info.ch_names)\n",
    "# # print(raw.annotations)\n",
    "# picks = mne.pick_channels_regexp(raw.info.ch_names, regexp='')\n",
    "# # print(picks)\n",
    "# # raw.plot(order=picks, n_channels=len(picks), duration=5, scalings=1000, start=120)\n",
    "# raw2 = raw.copy()\n",
    "# events = mne.find_events(raw2, stim_channel='Xe1', initial_event=False,uint_cast=True, min_duration=3/raw.info['sfreq'], )\n",
    "# raw2.plot(order=picks, events=events, n_channels=203, duration=20, event_color='cyan', scalings=500, start=200)\n",
    "# out_dir = _TempDir()\n"
   ]
  },
  {
   "cell_type": "code",
   "execution_count": null,
   "metadata": {},
   "outputs": [],
   "source": []
  },
  {
   "cell_type": "markdown",
   "metadata": {},
   "source": [
    "## FILTERING"
   ]
  },
  {
   "cell_type": "code",
   "execution_count": null,
   "metadata": {},
   "outputs": [],
   "source": [
    "# # raw2.plot(order=picks, n_channels=203, duration=20, event_color='cyan', scalings=1000, start=190)\n",
    "# picks = mne.pick_channels_regexp(raw.info.ch_names, regexp='Xe1')\n",
    "\n",
    "# raw2.plot(order=picks, n_channels=1, duration=500, event_color='cyan', scalings=5000, start=190)\n",
    "\n",
    "# raw2.apply_hilbert(picks=picks)\n",
    "# raw2.plot(order=picks, n_channels=1, duration=500, event_color='cyan', scalings=5000, start=190)\n"
   ]
  },
  {
   "cell_type": "code",
   "execution_count": null,
   "metadata": {},
   "outputs": [],
   "source": [
    "# FILTERING\n"
   ]
  },
  {
   "cell_type": "code",
   "execution_count": null,
   "metadata": {},
   "outputs": [],
   "source": [
    "\n",
    "# # raw.plot(duration=60)\n",
    "# picks = mne.pick_channels_regexp(raw.info.ch_names, regexp='Xe')\n",
    "# raw.plot(order=picks, n_channels=len(picks), duration=1600, scalings=3000, start=120)"
   ]
  },
  {
   "cell_type": "code",
   "execution_count": null,
   "metadata": {},
   "outputs": [],
   "source": [
    "# raw2 = raw.copy()\n",
    "# raw2.info['bads'] = []\n",
    "# picks = mne.pick_channels_regexp(raw2.info.ch_names, regexp='S')\n",
    "# print(picks)\n",
    "# raw2.plot(order=picks, n_channels=len(picks), duration=2)\n"
   ]
  },
  {
   "cell_type": "code",
   "execution_count": null,
   "metadata": {},
   "outputs": [],
   "source": [
    "# raw2 = raw.copy()\n",
    "# raw2.info['bads'] = []\n",
    "# picks = mne.pick_channels_regexp(raw2.info.ch_names, regexp='ST')\n",
    "# print(picks)\n",
    "# events = mne.find_events(raw2, stim_channel='Xe1', initial_event=True,uint_cast=True)\n",
    "\n",
    "# raw2.plot(order=picks, n_channels=len(picks), duration=5, event_color='cyan', scalings=0.1)\n",
    "# print(events)\n",
    "# epochs = mne.Epochs(raw2, events=events)['2'].average().plot()"
   ]
  },
  {
   "cell_type": "markdown",
   "metadata": {},
   "source": [
    "### Independend Component Analysis: \n",
    "```\n",
    "[CleanData, trials, BadIdx] = reject_artefact(EventData);\n",
    "save TrialIndex trials\n",
    "save BadChannelIndex BadIdx\n",
    "\n",
    "popout_ica(CleanData);\n",
    "\n",
    "[cleanBEEPData, ~ , ~] = reject_artefact(BEEPdata);\n",
    "\n",
    "popout_ica(cleanBEEPData);\n",
    "```\n",
    "\n"
   ]
  },
  {
   "cell_type": "code",
   "execution_count": null,
   "metadata": {},
   "outputs": [],
   "source": [
    "# # set up and fit the ICA\n",
    "# ica = mne.preprocessing.ICA(n_components=20, random_state=97, max_iter=800)\n",
    "# ica.fit(raw)\n",
    "# temporary = os.path.join(data_path, 'BadChannelIndex.mat')\n",
    "# ica.exclude = scipy.io.loadmat(temporary)  # [1, 2]  # details on how we picked these are omitted here\n",
    "\n",
    "# ica.plot_properties(raw, picks=ica.exclude)"
   ]
  },
  {
   "cell_type": "code",
   "execution_count": null,
   "metadata": {},
   "outputs": [],
   "source": [
    "# orig_raw = raw.copy()\n",
    "# raw.load_data()\n",
    "# ica.apply(raw)\n",
    "\n",
    "# # identify channels\n",
    "# temporary = os.path.join(data_path, 'Params.mat')\n",
    "# params = scipy.io.loadmat(temporary) \n",
    "\n",
    "# # show some frontal channels to clearly illustrate the artifact removal\n",
    "# chs =  params.channels # ['e1','e2']\n",
    "# chan_idxs = [raw.ch_names.index(ch) for ch in chs]\n",
    "# orig_raw.plot(order=chan_idxs, start=12, duration=4)\n",
    "# raw.plot(order=chan_idxs, start=12, duration=4)"
   ]
  },
  {
   "cell_type": "markdown",
   "metadata": {},
   "source": [
    "### Triggers: \n",
    "```\n",
    "events = mne.find_events(raw, stim_channel='STI 014')\n",
    "print(events[:5])  # show the first 5\n",
    "```"
   ]
  },
  {
   "cell_type": "code",
   "execution_count": null,
   "metadata": {},
   "outputs": [],
   "source": [
    "# events = mne.find_events(raw, stim_channel='STI 014')\n",
    "# print(events[:5])  # show the first 5\n",
    "\n",
    "# # event_dict = {'auditory/left': 1, 'auditory/right': 2, 'visual/left': 3,\n",
    "# #               'visual/right': 4, 'smiley': 5, 'buttonpress': 32} \n",
    "# event_dict = params.triggers\n",
    "\n",
    "# fig = mne.viz.plot_events(events, event_id=event_dict, sfreq=raw.info['sfreq'],\n",
    "#                           first_samp=raw.first_samp)"
   ]
  },
  {
   "cell_type": "markdown",
   "metadata": {},
   "source": []
  }
 ],
 "metadata": {
  "interpreter": {
   "hash": "aee8b7b246df8f9039afb4144a1f6fd8d2ca17a180786b69acc140d282b71a49"
  },
  "kernelspec": {
   "display_name": "Python 3.7.4 64-bit",
   "language": "python",
   "name": "python3"
  },
  "language_info": {
   "codemirror_mode": {
    "name": "ipython",
    "version": 3
   },
   "file_extension": ".py",
   "mimetype": "text/x-python",
   "name": "python",
   "nbconvert_exporter": "python",
   "pygments_lexer": "ipython3",
   "version": "3.7.4 (v3.7.4:e09359112e, Jul  8 2019, 14:54:52) \n[Clang 6.0 (clang-600.0.57)]"
  },
  "orig_nbformat": 4
 },
 "nbformat": 4,
 "nbformat_minor": 2
}
