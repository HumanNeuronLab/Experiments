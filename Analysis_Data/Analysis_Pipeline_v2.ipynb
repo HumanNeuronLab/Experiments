{
 "cells": [
  {
   "cell_type": "markdown",
   "metadata": {},
   "source": [
    "# Analysis Pipeline for Intracranial Data\n",
    "\n",
    "<!-- ### Triggers/Events\n",
    "Using photo triggers\n",
    "\n",
    "### Preprocessing\n",
    "TODO: ADD ouline of preprocessing steps for iEEG data\n",
    "\n",
    "### MNE python\n",
    "Working on the MNE library to recreate the same matlab funcitons: \n",
    "Location:\n",
    "https://mne.tools/stable/auto_tutorials/intro/10_overview.html#sphx-glr-auto-tutorials-intro-10-overview-py -->\n",
    "\n",
    "\n",
    "Let's go"
   ]
  },
  {
   "cell_type": "markdown",
   "metadata": {},
   "source": [
    "## IMPORT AND LOAD DATA"
   ]
  },
  {
   "cell_type": "code",
   "execution_count": 2,
   "metadata": {},
   "outputs": [
    {
     "name": "stdout",
     "output_type": "stream",
     "text": [
      "Data location.... : /var/folders/85/ct7qgj4500s62pw9zxkv_xc40000gn/T/tmp_mne_tempdir_hon8ju7x\n",
      "Extracting EDF parameters from /Volumes/GoogleDrive/My Drive/EEG_DATA_PIERRE/PAT_3066/PAT_3066_EEG_708977_Anon_CategoryLocalizer.edf...\n",
      "EDF file detected\n",
      "Setting channel info structure...\n",
      "Creating raw.info structure...\n",
      "<bound method BaseRaw.__len__ of <RawEDF | PAT_3066_EEG_708977_Anon_CategoryLocalizer.edf, 204 x 2181120 (1065.0 s), ~196 kB, data not loaded>>\n"
     ]
    }
   ],
   "source": [
    "# IMPORTS: \n",
    "from sklearn.preprocessing import StandardScaler\n",
    "import os\n",
    "import numpy as np\n",
    "import mne\n",
    "import scipy\n",
    "from scipy import signal\n",
    "from mne.utils import _TempDir\n",
    "import matplotlib.pyplot as plt\n",
    "%matplotlib qt\n",
    "\n",
    "import pd_parser\n",
    "from pd_parser.parse_pd import _read_raw, _to_tsv\n",
    "out_dir = _TempDir()\n",
    "print(f'Data location.... : {out_dir}')\n",
    "# DATA LOCATION:\n",
    "data_path = '/Volumes/GoogleDrive/My Drive/EEG_DATA_PIERRE/PAT_3066'\n",
    "# data_path = '/Volumes/GoogleDrive/My Drive/EEG_DATA_PIERRE/S20'\n",
    "script_path = '/Volumes/GoogleDrive/My Drive/EEG_DATA_PIERRE/Scripts'\n",
    "\n",
    "\n",
    "t_onset_s= 275\n",
    "t_offset_s= 1620\n",
    "# LOAD DATA \n",
    "# data_raw_file = os.path.join(data_path, 'S20_20181217_014956.mff')\n",
    "# data_raw_file = os.path.join(data_path, 'PAT_3066_EEG_695997_Anon_FLM.edf')\n",
    "data_raw_file = os.path.join(data_path, 'PAT_3066_EEG_708977_Anon_CategoryLocalizer.edf')\n",
    "raw = mne.io.read_raw_edf(data_raw_file,exclude=['ECG+','ECG-','MKR4+','Xe2', 'Xe3', 'Xe4', 'Xe5', 'Xe6'])\n",
    "print(raw.__len__)\n",
    "picks = mne.pick_channels_regexp(raw.info.ch_names, regexp='Xe1')\n",
    "# picks = mne.pick_channels_regexp(raw.info.ch_names, regexp='')\n",
    "# raw.plot(order=picks,n_channels=203, event_color='cyan', scalings=3500, duration=200)\n",
    "raw.get_data(picks=picks)\n",
    "raw2 = raw[-1][0]\n",
    "raw2 = np.array(raw2[0])\n",
    "\n",
    "del raw"
   ]
  },
  {
   "cell_type": "markdown",
   "metadata": {},
   "source": [
    "## VISUALIZE TRIGGER DATA: PHOTODIODE"
   ]
  },
  {
   "cell_type": "code",
   "execution_count": 28,
   "metadata": {},
   "outputs": [
    {
     "name": "stdout",
     "output_type": "stream",
     "text": [
      "(2181120,)\n"
     ]
    },
    {
     "data": {
      "text/plain": [
       "<pyqtgraph.widgets.PlotWidget.PlotWidget at 0x7f989991fd70>"
      ]
     },
     "execution_count": 28,
     "metadata": {},
     "output_type": "execute_result"
    }
   ],
   "source": [
    "%matplotlib qt\n",
    "print(np.shape(raw2))\n",
    "import pyqtgraph as pg\n",
    "import pyqtgraph as plotWidget\n",
    "time_s = range(len(raw2))\n",
    "pg.plot(time_s,raw2)\n"
   ]
  },
  {
   "cell_type": "markdown",
   "metadata": {},
   "source": [
    "## NORMALIZE TRIGGER DATA: PHOTODIODE"
   ]
  },
  {
   "cell_type": "code",
   "execution_count": 14,
   "metadata": {},
   "outputs": [
    {
     "data": {
      "text/plain": [
       "<pyqtgraph.widgets.PlotWidget.PlotWidget at 0x7f98d91620f0>"
      ]
     },
     "execution_count": 14,
     "metadata": {},
     "output_type": "execute_result"
    }
   ],
   "source": [
    "def normalized(data):\n",
    "    return (data - np.min(data)) / (np.max(data) - np.min(data))\n",
    "\n",
    "raw2 = normalized(raw2)\n",
    "pg.plot(time_s,raw2)\n"
   ]
  },
  {
   "cell_type": "markdown",
   "metadata": {},
   "source": [
    "## PREPROCESSING TRIGGER DATA TO GET EVENTS: PHOTODIODE"
   ]
  },
  {
   "cell_type": "markdown",
   "metadata": {},
   "source": [
    "#### SAMPLE"
   ]
  },
  {
   "cell_type": "code",
   "execution_count": 4,
   "metadata": {},
   "outputs": [
    {
     "name": "stdout",
     "output_type": "stream",
     "text": [
      "*** USING EXAMPLE FILE ***\n",
      "*   Data location.... : /var/folders/85/ct7qgj4500s62pw9zxkv_xc40000gn/T/tmp_mne_tempdir_andabsy_\n",
      "\n",
      "\n",
      "Extracting EDF parameters from /Volumes/GoogleDrive/My Drive/EEG_DATA_PIERRE/PAT_3066/PAT_3066_EEG_708977_Anon_CategoryLocalizer.edf...\n",
      "EDF file detected\n",
      "Setting channel info structure...\n",
      "Creating raw.info structure...\n",
      "*    length of onset indexes\n",
      "*   length of offset indexes\n",
      "113 110\n"
     ]
    }
   ],
   "source": [
    "## SMOOTH\n",
    "from savitzky_golay import savitzky_golay\n",
    "from get_trigger_indexes_photodiode import get_trigger_indexes_photodiode\n",
    "# print(raw2)\n",
    "# temp = savitzky_golay(raw2, 11, 3) # window size 51, polynomial order 3\n",
    "index_onset, index_offset = get_trigger_indexes_photodiode()\n",
    "print(len(index_onset), len(index_offset))\n",
    "# time2 = time_s[10000:50000]\n",
    "# temp2 = temp[0:40000]\n",
    "# temp3 = np.diff(temp[0:40000])\n",
    "# plotWidget = pg.plot(title=\"Trigger raw + diff: sample\")\n",
    "\n",
    "# plotWidget.plot(time2,temp2,pen='blue')\n",
    "# plotWidget.plot(time2[0:-1],temp3,pen='white')\n"
   ]
  },
  {
   "cell_type": "markdown",
   "metadata": {},
   "source": [
    "#### FULL SIZE"
   ]
  },
  {
   "cell_type": "code",
   "execution_count": 16,
   "metadata": {},
   "outputs": [],
   "source": [
    "time2 = time_s\n",
    "temp2 = temp\n",
    "temp3 = np.diff(temp)\n",
    "# plotWidget = pg.plot(title=\"Trigger raw + diff\")\n",
    "\n",
    "# plotWidget.plot(time2,temp2,pen='blue')\n",
    "# plotWidget.plot(time2[0:-1],temp3,pen='white')\n",
    "\n",
    "# # picks = mne.pick_channels_regexp(raw.info.ch_names, regexp='Xe1')\n",
    "# # raw.plot_psd(area_mode='range', tmax=10.0, picks=picks, average=False) \n",
    "# # picks = mne.pick_channels_regexp(raw.info.ch_names, regexp='')\n",
    "# # raw.plot_psd(area_mode='range', tmax=10.0, picks=picks, average=False)\n"
   ]
  },
  {
   "cell_type": "markdown",
   "metadata": {},
   "source": [
    "#### FIND MAXIMA MINIMA"
   ]
  },
  {
   "cell_type": "code",
   "execution_count": 17,
   "metadata": {},
   "outputs": [
    {
     "name": "stdout",
     "output_type": "stream",
     "text": [
      "739\n",
      "739\n"
     ]
    },
    {
     "data": {
      "text/plain": [
       "<pyqtgraph.graphicsItems.PlotDataItem.PlotDataItem at 0x7f98d9153b90>"
      ]
     },
     "execution_count": 17,
     "metadata": {},
     "output_type": "execute_result"
    }
   ],
   "source": [
    "import numpy as np\n",
    "from scipy.signal import argrelextrema\n",
    "\n",
    "# temp3 = normalized(temp3)\n",
    "\n",
    "# plotWidget = pg.plot(title=\"Trigger Max and min convolved V5\")\n",
    "\n",
    "# # for local maxima\n",
    "# indexes = scipy.signal.argrelextrema(temp3, np.greater,order=200)[0]\n",
    "# print(len(temp3[scipy.signal.argrelextrema(temp3, np.greater, order=200)[0][:]]))\n",
    "# print(len(indexes[:]))\n",
    "# plotWidget.plot(time2[0:-1],temp3,pen='white')\n",
    "# plotWidget.plot(time2[0:-1],temp3,pen='white')\n",
    "# plotWidget.plot(indexes,temp3[indexes],pen=None, symbol='o')\n",
    "\n",
    "# for local minima\n",
    "\n"
   ]
  },
  {
   "cell_type": "markdown",
   "metadata": {},
   "source": [
    "## ONSET TRIGGERS: "
   ]
  },
  {
   "cell_type": "code",
   "execution_count": 18,
   "metadata": {},
   "outputs": [
    {
     "name": "stdout",
     "output_type": "stream",
     "text": [
      "[  6446   8724  11179  13876  16530  18778  21064  23520  25565  28028\n",
      "  30312  32769  35226  37917  39967  42625  44875  47572  50263  52547\n",
      "  54973  57050  59712  62410  64866  67319  69607  71852  74509  76757\n",
      "  79452  81499  83958  86007  88499  90543  92791  94871  96919  99203\n",
      " 101690 104147 106807 109471 111965 114416 116697 118742 121198 123450\n",
      " 125732 128190 130646 132690 134974 137021 139072 141731 144249 146706\n",
      " 149162 151412 153902 156563 159014 161297 163340 166005 168084 170333\n",
      " 172586 175314 177360 179814 182269 184552 186600 189054 191094 193174\n",
      " 195836 197881 199960 202033 204492 206984 209027 211280 213331 215381\n",
      " 217461 219916 221997 224456 227120 229785 231863 234523 236569 238854\n",
      " 241519 244180 246258 248921 251374 253832 256525 259182 261638 264334\n",
      " 266788 269244 271555 273805 275850 278136 280382 282429 285128 287582\n",
      " 289831 292521 294564 296849 298892 301382 303841 306501 308785 311041\n",
      " 313491 315979 318233 320484 323184 325228 327888 330580 332624 335289\n",
      " 337746 339823 341871 344326 346407 349097 351552 353837 356297 358757\n",
      " 361042 363502 365753 367798 369872 372325 374779 376855 379107 381772\n",
      " 384466 386715 389404 391686 394345 396596 398643 401136 403385 405430\n",
      " 407877 410163 412825 415141 417179 419433 421479 423556 425601 428269\n",
      " 430759 432806 434853 437547 439798 441841 444090 446789 448829 451289\n",
      " 453572 455623 457875 460568 463053 465714 467962 470452 473110 475559\n",
      " 478285 480914 483165 485859 488146 490599 493257 495955 498614 500660\n",
      " 503147 505809 508264 510343 513004 515255 517299 519583 522042 524293\n",
      " 526405 528419 530500 532957 535205 537695 540151 542606 545302 547756\n",
      " 549800 552255 554742 557201 559867 561943 563988 566649 569171 571187\n",
      " 573675 575720 578205 580250 582499 584991 587654 589905 592393 595052\n",
      " 597711 599755 602039 604732 607388 609672 611715 614374 617037 619118\n",
      " 621572 623820 625898 628180 630225 632715 635173 637218 639674 641750\n",
      " 644202 646454 648535 650788 653447 656139 658596 661259 663749 666206\n",
      " 668253 670739 673224 675473 677928 679979 682061 684106 686769 689466\n",
      " 691918 693962 696247 698906 700950 703199 705897 707945 709991 712073\n",
      " 714767 717221 719878 722367 724822 727109 729154 731201 733455 736149\n",
      " 738193 740443 742933 745597 748055 750308 752389 754842 757090 759612\n",
      " 762065 764726 767009 769674 772334 775031 777068 779113 781364 784063\n",
      " 786722 788970 791425 793949 796199 798244 800736 803397 805851 808133\n",
      " 810382 813044 815089 817784 820238 822898 825385 827667 829713 831998\n",
      " 834455 836706 839162 841449 843905 846154 848848 851304 853793 856248\n",
      " 858298 860755 862837 864886]\n",
      "364\n",
      "364\n"
     ]
    },
    {
     "data": {
      "text/plain": [
       "<pyqtgraph.graphicsItems.PlotDataItem.PlotDataItem at 0x7f98d9153f50>"
      ]
     },
     "execution_count": 18,
     "metadata": {},
     "output_type": "execute_result"
    }
   ],
   "source": [
    "# Filtered plots\n",
    "# raw_original = raw.copy()\n",
    "\n",
    "index_final_onset,_ = scipy.signal.find_peaks(temp3, height=0.8*temp3.max())\n",
    "print(index_final_onset)\n",
    "\n",
    "plotWidget = pg.plot(title=\"Trigger Max and min convolved V4\")\n",
    "\n",
    "# for local maxima\n",
    "print(len(temp[index_final_onset]))\n",
    "print(len(index_final_onset[:]))\n",
    "plotWidget.plot(time2[0:-1],temp3,pen='white')\n",
    "plotWidget.plot(index_final_onset,temp3[index_final_onset],pen=None, symbol='o')"
   ]
  },
  {
   "cell_type": "markdown",
   "metadata": {},
   "source": [
    "OFFSET TRIGGERS"
   ]
  },
  {
   "cell_type": "markdown",
   "metadata": {},
   "source": []
  },
  {
   "cell_type": "code",
   "execution_count": 24,
   "metadata": {},
   "outputs": [],
   "source": [
    "# Filtered plots\n",
    "# # raw_original = raw.copy()\n",
    "\n",
    "\n",
    "# index_final_offset,_ = scipy.signal.find_peaks(-1*temp3, height=-0.2)\n",
    "# print(index_final_offset)\n",
    "\n",
    "# plotWidget = pg.plot(title=\"Trigger Max and min convolved V4\")\n",
    "\n",
    "# # for local maxima\n",
    "# print(len(temp[index_final_offset]))\n",
    "# print(len(index_final_offset[:]))\n",
    "# plotWidget.plot(time2[0:-1],temp3,pen='white')\n",
    "# plotWidget.plot(index_final_offset,temp3[index_final_offset],pen=None, symbol='o')\n",
    "# plotWidget.plot(index_final_onset,temp3[index_final_onset],pen=None, symbol='x')"
   ]
  },
  {
   "cell_type": "markdown",
   "metadata": {},
   "source": [
    "## ALL TOGETHER"
   ]
  },
  {
   "cell_type": "code",
   "execution_count": 19,
   "metadata": {},
   "outputs": [
    {
     "name": "stdout",
     "output_type": "stream",
     "text": [
      "[  7098   9588  12249  14941  17190  19440  21897  23980  26468  28691\n",
      "  31177  33633  36291  38342  41037  43287  45947  48637  50922  53381\n",
      "  55433  58121  60780  63270  65728  67979  70270  72921  75172  77826\n",
      "  79908  82364  84416  86873  88958  91205  93251  95333  97583 100067\n",
      " 102557 105216 107873 110334 112828 115078 117157 119609 121862 124113\n",
      " 126598 129053 131138 133386 135400 137483 140141 142661 145115 147571\n",
      " 149824 152278 154968 157426 159675 161758 164445 166463 168713 170997\n",
      " 173689 175772 178225 180678 182929 184979 187468 189514 191556 194245\n",
      " 196294 198342 200388 202901 205357 207408 209690 211741 213792 215877\n",
      " 218327 220375 222830 225492 228224 230242 232932 234980 237231 239891\n",
      " 242588 244671 247326 249783 252238 254898 257591 260046 262706 265198\n",
      " 267652 269904 272218 274266 276515 278764 280842 283500 285991 288243\n",
      " 290899 292945 295229 297277 299760 302249 304907 307160 309414 311907\n",
      " 314357 316640 318896 321552 323641 326297 328956 331037 333695 336152\n",
      " 338203 340284 342735 344818 347478 349962 352214 354701 357161 359417\n",
      " 361873 364165 366213 368293 370740 373191 375238 377518 380178 382836\n",
      " 385126 387816 390066 392722 395004 397055 399510 401763 403845 406327\n",
      " 408538 411233 413487 415567 417844 419895 421941 424018 426672 429132\n",
      " 431217 433267 435920 438176 440259 442506 445194 447212 449697 451950\n",
      " 454066 456285 458976 461464 464087 466375 468828 471517 473971 476627\n",
      " 479352 481607 484300 486517 489011 491665 494326 497021 499070 501524\n",
      " 504183 506672 508722 511410 513663 515713 517962 520450 522703 524752\n",
      " 526833 528915 531367 533618 536070 538561 541016 543673 546165 548214\n",
      " 550666 553119 555608 558269 560323 562370 565055 567512 569596 572054\n",
      " 574135 576588 578664 580914 583367 586058 588312 590769 593428 596118\n",
      " 598167 600417 603140 605798 608048 610132 612786 615441 617494 619982\n",
      " 622232 624313 626562 628641 631092 633547 635599 638087 640133 642582\n",
      " 644864 646913 649198 651853 654513 657002 659664 662121 664579 666664\n",
      " 669118 671603 673885 676338 678421 680473 682522 685176 687836 690330\n",
      " 692376 694626 697284 699364 701615 704303 706353 708405 710453 713141\n",
      " 715631 718289 720742 723229 725481 727535 729614 731864 734521 736607\n",
      " 738856 741309 744002 746459 748714 750767 753253 755503 757988 760478\n",
      " 763134 765386 768042 770741 773435 775453 777528 779778 782470 785129\n",
      " 787381 789868 792357 794610 796658 799111 801803 804259 806511 808761\n",
      " 811450 813535 816191 818646 821304 823760 826046 828127 830377 832865\n",
      " 835117 837571 839824 842314 844565 847255 849678 852169 854622 856706\n",
      " 859163 861212 863265]\n",
      "363\n",
      "363\n"
     ]
    },
    {
     "data": {
      "text/plain": [
       "<pyqtgraph.graphicsItems.PlotDataItem.PlotDataItem at 0x7f98d90dff50>"
      ]
     },
     "execution_count": 19,
     "metadata": {},
     "output_type": "execute_result"
    }
   ],
   "source": [
    "# Filtered plots\n",
    "# raw_original = raw.copy()\n",
    "\n",
    "\n",
    "index_final_offset,_ = scipy.signal.find_peaks(-1*temp3, height=-0.2)\n",
    "print(index_final_offset)\n",
    "\n",
    "plotWidget = pg.plot(title=\"Trigger Max and min convolved V6\")\n",
    "\n",
    "# for local maxima\n",
    "print(len(temp[index_final_offset]))\n",
    "print(len(index_final_offset[:]))\n",
    "plotWidget.plot(time2,temp2,pen='blue')\n",
    "plotWidget.plot(time2[0:-1],temp3,pen='white')\n",
    "plotWidget.plot(index_final_offset,temp3[index_final_offset],pen=None, symbol='o')\n",
    "plotWidget.plot(index_final_onset,temp3[index_final_onset],pen=None, symbol='x')\n"
   ]
  },
  {
   "cell_type": "markdown",
   "metadata": {},
   "source": [
    "## EXPORT TEXT FILE"
   ]
  },
  {
   "cell_type": "code",
   "execution_count": 20,
   "metadata": {},
   "outputs": [],
   "source": [
    "with open(os.path.join(data_path, \"triggers2_PAT3066_visualCatLoc.txt\"), \"w\") as textfile:\n",
    "    textfile.write('onsets;')\n",
    "    [textfile.write(str(x)+';') for x in index_final_onset]\n",
    "    textfile.write('\\noffsets;')\n",
    "    [textfile.write(str(x)+';') for x in index_final_offset]\n",
    "    textfile.close()"
   ]
  },
  {
   "cell_type": "code",
   "execution_count": null,
   "metadata": {},
   "outputs": [],
   "source": [
    "raw.preload_data()\n",
    "raw.filter(l_freq=0.15, h_freq=None, picks=picks)\n",
    "raw.plot_psd(area_mode='range', tmax=10.0, picks=picks, average=False)\n",
    "\n",
    "raw.notch_filter(np.arange(60, 241, 60), picks=picks, filter_length='auto',phase='zero')\n",
    "raw.plot_psd(area_mode='range', tmax=10.0, picks=picks, average=False)\n"
   ]
  },
  {
   "cell_type": "code",
   "execution_count": 22,
   "metadata": {},
   "outputs": [],
   "source": [
    "# # FIND TRIGGERS FROM PHOTODIODE\n",
    "# # print(len(raw.get_data().T))\n",
    "# %matplotlib qt\n",
    "# pd_parser.find_pd_params(raw, pd_ch_names=['Xe1'])\n",
    "# pd_parser.parse_pd(raw, pd_ch_names=['Xe1'], max_len=15.83, zscore=-2.26,overwrite=True)\n",
    "# # print(Xe1_params)\n",
    "# # print(xe1_params2)"
   ]
  },
  {
   "cell_type": "code",
   "execution_count": 23,
   "metadata": {},
   "outputs": [],
   "source": [
    "# # Some information about the DATASET: \n",
    "# print(raw.info)\n",
    "# infodata = raw.info\n",
    "\n",
    "# ## FURTHER INFORMATION\n",
    "# # print(raw.info.ch_names)\n",
    "# # print(raw.annotations)\n",
    "# picks = mne.pick_channels_regexp(raw.info.ch_names, regexp='')\n",
    "# # print(picks)\n",
    "# # raw.plot(order=picks, n_channels=len(picks), duration=5, scalings=1000, start=120)\n",
    "# raw2 = raw.copy()\n",
    "# events = mne.find_events(raw2, stim_channel='Xe1', initial_event=False,uint_cast=True, min_duration=3/raw.info['sfreq'], )\n",
    "# raw2.plot(order=picks, events=events, n_channels=203, duration=20, event_color='cyan', scalings=500, start=200)\n",
    "# out_dir = _TempDir()\n"
   ]
  },
  {
   "cell_type": "code",
   "execution_count": null,
   "metadata": {},
   "outputs": [],
   "source": []
  },
  {
   "cell_type": "markdown",
   "metadata": {},
   "source": [
    "## FILTERING"
   ]
  },
  {
   "cell_type": "code",
   "execution_count": 25,
   "metadata": {},
   "outputs": [],
   "source": [
    "# # raw2.plot(order=picks, n_channels=203, duration=20, event_color='cyan', scalings=1000, start=190)\n",
    "# picks = mne.pick_channels_regexp(raw.info.ch_names, regexp='Xe1')\n",
    "\n",
    "# raw2.plot(order=picks, n_channels=1, duration=500, event_color='cyan', scalings=5000, start=190)\n",
    "\n",
    "# raw2.apply_hilbert(picks=picks)\n",
    "# raw2.plot(order=picks, n_channels=1, duration=500, event_color='cyan', scalings=5000, start=190)\n"
   ]
  },
  {
   "cell_type": "code",
   "execution_count": 21,
   "metadata": {},
   "outputs": [],
   "source": [
    "# FILTERING\n"
   ]
  },
  {
   "cell_type": "code",
   "execution_count": null,
   "metadata": {},
   "outputs": [],
   "source": [
    "\n",
    "# # raw.plot(duration=60)\n",
    "# picks = mne.pick_channels_regexp(raw.info.ch_names, regexp='Xe')\n",
    "# raw.plot(order=picks, n_channels=len(picks), duration=1600, scalings=3000, start=120)"
   ]
  },
  {
   "cell_type": "code",
   "execution_count": null,
   "metadata": {},
   "outputs": [],
   "source": [
    "# raw2 = raw.copy()\n",
    "# raw2.info['bads'] = []\n",
    "# picks = mne.pick_channels_regexp(raw2.info.ch_names, regexp='S')\n",
    "# print(picks)\n",
    "# raw2.plot(order=picks, n_channels=len(picks), duration=2)\n"
   ]
  },
  {
   "cell_type": "code",
   "execution_count": null,
   "metadata": {},
   "outputs": [],
   "source": [
    "# raw2 = raw.copy()\n",
    "# raw2.info['bads'] = []\n",
    "# picks = mne.pick_channels_regexp(raw2.info.ch_names, regexp='ST')\n",
    "# print(picks)\n",
    "# events = mne.find_events(raw2, stim_channel='Xe1', initial_event=True,uint_cast=True)\n",
    "\n",
    "# raw2.plot(order=picks, n_channels=len(picks), duration=5, event_color='cyan', scalings=0.1)\n",
    "# print(events)\n",
    "# epochs = mne.Epochs(raw2, events=events)['2'].average().plot()"
   ]
  },
  {
   "cell_type": "markdown",
   "metadata": {},
   "source": [
    "### Independend Component Analysis: \n",
    "```\n",
    "[CleanData, trials, BadIdx] = reject_artefact(EventData);\n",
    "save TrialIndex trials\n",
    "save BadChannelIndex BadIdx\n",
    "\n",
    "popout_ica(CleanData);\n",
    "\n",
    "[cleanBEEPData, ~ , ~] = reject_artefact(BEEPdata);\n",
    "\n",
    "popout_ica(cleanBEEPData);\n",
    "```\n",
    "\n"
   ]
  },
  {
   "cell_type": "code",
   "execution_count": null,
   "metadata": {},
   "outputs": [],
   "source": [
    "# # set up and fit the ICA\n",
    "# ica = mne.preprocessing.ICA(n_components=20, random_state=97, max_iter=800)\n",
    "# ica.fit(raw)\n",
    "# temporary = os.path.join(data_path, 'BadChannelIndex.mat')\n",
    "# ica.exclude = scipy.io.loadmat(temporary)  # [1, 2]  # details on how we picked these are omitted here\n",
    "\n",
    "# ica.plot_properties(raw, picks=ica.exclude)"
   ]
  },
  {
   "cell_type": "code",
   "execution_count": null,
   "metadata": {},
   "outputs": [],
   "source": [
    "# orig_raw = raw.copy()\n",
    "# raw.load_data()\n",
    "# ica.apply(raw)\n",
    "\n",
    "# # identify channels\n",
    "# temporary = os.path.join(data_path, 'Params.mat')\n",
    "# params = scipy.io.loadmat(temporary) \n",
    "\n",
    "# # show some frontal channels to clearly illustrate the artifact removal\n",
    "# chs =  params.channels # ['e1','e2']\n",
    "# chan_idxs = [raw.ch_names.index(ch) for ch in chs]\n",
    "# orig_raw.plot(order=chan_idxs, start=12, duration=4)\n",
    "# raw.plot(order=chan_idxs, start=12, duration=4)"
   ]
  },
  {
   "cell_type": "markdown",
   "metadata": {},
   "source": [
    "### Triggers: \n",
    "```\n",
    "events = mne.find_events(raw, stim_channel='STI 014')\n",
    "print(events[:5])  # show the first 5\n",
    "```"
   ]
  },
  {
   "cell_type": "code",
   "execution_count": null,
   "metadata": {},
   "outputs": [],
   "source": [
    "# events = mne.find_events(raw, stim_channel='STI 014')\n",
    "# print(events[:5])  # show the first 5\n",
    "\n",
    "# # event_dict = {'auditory/left': 1, 'auditory/right': 2, 'visual/left': 3,\n",
    "# #               'visual/right': 4, 'smiley': 5, 'buttonpress': 32} \n",
    "# event_dict = params.triggers\n",
    "\n",
    "# fig = mne.viz.plot_events(events, event_id=event_dict, sfreq=raw.info['sfreq'],\n",
    "#                           first_samp=raw.first_samp)"
   ]
  },
  {
   "cell_type": "markdown",
   "metadata": {},
   "source": []
  }
 ],
 "metadata": {
  "interpreter": {
   "hash": "aee8b7b246df8f9039afb4144a1f6fd8d2ca17a180786b69acc140d282b71a49"
  },
  "kernelspec": {
   "display_name": "Python 3.7.4 64-bit",
   "language": "python",
   "name": "python3"
  },
  "language_info": {
   "codemirror_mode": {
    "name": "ipython",
    "version": 3
   },
   "file_extension": ".py",
   "mimetype": "text/x-python",
   "name": "python",
   "nbconvert_exporter": "python",
   "pygments_lexer": "ipython3",
   "version": "3.7.4"
  },
  "orig_nbformat": 4
 },
 "nbformat": 4,
 "nbformat_minor": 2
}
