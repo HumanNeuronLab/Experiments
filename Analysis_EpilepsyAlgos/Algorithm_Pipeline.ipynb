{
 "cells": [
  {
   "cell_type": "markdown",
   "metadata": {},
   "source": [
    "# Creating pipeline for Epilepsy Classification Algorithm"
   ]
  },
  {
   "cell_type": "markdown",
   "metadata": {},
   "source": [
    "## 1. Background/Introduction\n",
    "Epilepsy is known as an enduring condition where seizures occur spontaneously\n",
    "without a triggering factor. Refractory epilepsy occurs when antiepilepsy\n",
    "medication no longer diminish the occurrence of seizures. Through\n",
    "the advancements in neurotechnology and biomarker identification, the detection\n",
    "and prediction of epileptic seizures will soon be a reality. Detecting\n",
    "seizures at their onset and predicting their occurrence will be a major breakthrough,\n",
    "and particular beneficial for the quality of like of people with refractory\n",
    "epilepsy, by improving the patients’ safety, independence, and treatment.\n",
    "This essay will introduce epilepsy, seizures, seizure biomarkers, and current\n",
    "methods used in predicting and detecting epilepsy.\n",
    "\n",
    "### 1.1 Outline: \n",
    "<img src=\"Introduction.png\" width=\"450\" >\n",
    "\n",
    "Assuming you have an input signal (in this case,\n",
    "EEG) and a label associating it (in this case, Epileptic vs Non-Epileptic), you can train an ML classifier to classify the neural information into one of the labels. Thus,\n",
    "when new, unlabeled information is presented, the model can predict which label\n",
    "the neural information most likely belongs to.\n",
    "\n",
    "Document: \"labs 4, 6, 7 M10.docx\" includes more details\n",
    "\n",
    "### 1.2 State of the Art\n",
    "\n",
    "Ictal activity, which is a characteristic of epileptic activity, has a specific frequency\n",
    "imprint and thus can make locating it successfully if frequency features are used in\n",
    "classification. Parvez et al. successfully classified seizure EEG signals using leastsquares\n",
    "SVM as an Ictal activity classification technique on features derived from\n",
    "DCT in an Ictal activity classification task [12]. Parvez et al. used DCT feature\n",
    "extraction for extracting the last 25% of DCT coefficients, which relate to high frequency\n",
    "components as high Ictal signals are distinguished by the entropy and\n",
    "energy, which are derived from the high frequencies [12].\n",
    "Additionally, Bashar et al. were able to reach an accuracy of 0.792 (where 1.00\n",
    "is no mistakes) in five subjects for epilepsy classification using a combination of\n",
    "features from EEG recordings in the time-frequency domain [13]. Thus, leading to\n",
    "believe that a possible biomarker for seizure detection and prediction could be the\n",
    "frequency component of recorded brain activity.\n",
    "\n",
    "### 1.3 Algorithms to test\n",
    "| Paper       | Dataset + Algorithm |\n",
    "| ----------- | -----------         |\n",
    "| name        | Text                |\n",
    "| name 2      | Text                |"
   ]
  },
  {
   "cell_type": "code",
   "execution_count": null,
   "metadata": {},
   "outputs": [],
   "source": []
  },
  {
   "cell_type": "code",
   "execution_count": null,
   "metadata": {},
   "outputs": [],
   "source": [
    "word"
   ]
  }
 ],
 "metadata": {
  "interpreter": {
   "hash": "aee8b7b246df8f9039afb4144a1f6fd8d2ca17a180786b69acc140d282b71a49"
  },
  "kernelspec": {
   "display_name": "Python 3.7.4 64-bit",
   "language": "python",
   "name": "python3"
  },
  "language_info": {
   "name": "python",
   "version": "3.7.4"
  },
  "orig_nbformat": 4
 },
 "nbformat": 4,
 "nbformat_minor": 2
}
